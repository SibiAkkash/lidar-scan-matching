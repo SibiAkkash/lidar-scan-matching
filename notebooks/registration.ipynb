{
 "cells": [
  {
   "cell_type": "code",
   "execution_count": 2,
   "metadata": {},
   "outputs": [
    {
     "name": "stdout",
     "output_type": "stream",
     "text": [
      "Jupyter environment detected. Enabling Open3D WebVisualizer.\n",
      "[Open3D INFO] WebRTC GUI backend enabled.\n",
      "[Open3D INFO] WebRTCWindowSystem: HTTP handshake server disabled.\n"
     ]
    }
   ],
   "source": [
    "import open3d as o3d\n",
    "import numpy as np\n",
    "import math\n",
    "import copy"
   ]
  },
  {
   "cell_type": "code",
   "execution_count": 3,
   "metadata": {},
   "outputs": [],
   "source": [
    "def write_pcd(file, out_file='pcd.txt', height=0):\n",
    "    \"\"\" write one measurement per angle to out file (in euclidean format) \"\"\"\n",
    "    angles = []\n",
    "    distances = []\n",
    "    seen = set()\n",
    "\n",
    "    with open(file, 'r') as f:\n",
    "        lines = f.readlines()\n",
    "        for line in lines:\n",
    "            angle, dist, quality = map(lambda x : float(x.split(':')[1]), line.split())\n",
    "            angle = math.floor(angle)\n",
    "            if angle not in seen:\n",
    "                angles.append(math.radians(angle))\n",
    "                distances.append(dist)\n",
    "                seen.add(angle)\n",
    "\n",
    "    angles = np.array(angles)\n",
    "    distances = np.array(distances)\n",
    "    \n",
    "    points_x = np.cos(angles) * distances\n",
    "    points_y = np.sin(angles) * distances\n",
    "\n",
    "    # write in x y z format for open3d\n",
    "    with open(out_file, 'w') as f:\n",
    "        for x, y in zip(points_x, points_y):\n",
    "            f.write(f'{x} {y} {height}\\n')\n",
    "\n"
   ]
  },
  {
   "cell_type": "markdown",
   "metadata": {},
   "source": [
    "#### Convert files to required xyz format"
   ]
  },
  {
   "cell_type": "code",
   "execution_count": 4,
   "metadata": {},
   "outputs": [],
   "source": [
    "BASE_PATH_RAW_POINTS = \"../data/out\"\n",
    "BASE_PATH_POINTS = \"../data/out_uni\""
   ]
  },
  {
   "cell_type": "markdown",
   "metadata": {},
   "source": [
    "#### Convert to required format"
   ]
  },
  {
   "cell_type": "code",
   "execution_count": 5,
   "metadata": {},
   "outputs": [],
   "source": [
    "write_pcd(f'{BASE_PATH_RAW_POINTS}/1.txt', out_file=f'{BASE_PATH_POINTS}/1.txt')\n",
    "write_pcd(f'{BASE_PATH_RAW_POINTS}/2.txt', out_file=f'{BASE_PATH_POINTS}/2.txt')\n",
    "write_pcd(f'{BASE_PATH_RAW_POINTS}/3.txt', out_file=f'{BASE_PATH_POINTS}/3.txt')\n",
    "write_pcd(f'{BASE_PATH_RAW_POINTS}/4.txt', out_file=f'{BASE_PATH_POINTS}/4.txt')\n"
   ]
  },
  {
   "cell_type": "markdown",
   "metadata": {},
   "source": [
    "#### Load point clouds"
   ]
  },
  {
   "cell_type": "code",
   "execution_count": 6,
   "metadata": {},
   "outputs": [],
   "source": [
    "pcd_1 = o3d.io.read_point_cloud(f\"{BASE_PATH_POINTS}/1.txt\", format='xyz')\n",
    "pcd_2 = o3d.io.read_point_cloud(f\"{BASE_PATH_POINTS}/2.txt\", format='xyz')\n",
    "pcd_3 = o3d.io.read_point_cloud(f\"{BASE_PATH_POINTS}/3.txt\", format='xyz')\n",
    "pcd_4 = o3d.io.read_point_cloud(f\"{BASE_PATH_POINTS}/4.txt\", format='xyz')"
   ]
  },
  {
   "cell_type": "markdown",
   "metadata": {},
   "source": [
    "### Point to Point ICP"
   ]
  },
  {
   "cell_type": "code",
   "execution_count": 7,
   "metadata": {},
   "outputs": [],
   "source": [
    "def draw_registration_result(source, target, transformation):\n",
    "    source_temp = copy.deepcopy(source)\n",
    "    target_temp = copy.deepcopy(target)\n",
    "    source_temp.paint_uniform_color([1, 0.706, 0])\n",
    "    target_temp.paint_uniform_color([0, 0.651, 0.929])\n",
    "    source_temp.transform(transformation)\n",
    "    o3d.visualization.draw_geometries([source_temp, target_temp],\n",
    "                                      zoom=0.4559,\n",
    "                                      front=[0.6452, -0.3036, -0.7011],\n",
    "                                      lookat=[1.9892, 2.0208, 1.8945],\n",
    "                                      up=[-0.2779, -0.9482, 0.1556])"
   ]
  },
  {
   "cell_type": "code",
   "execution_count": 8,
   "metadata": {},
   "outputs": [],
   "source": [
    "pcd_1_copy = copy.deepcopy(pcd_1)\n",
    "pcd_2_copy = copy.deepcopy(pcd_2)\n",
    "pcd_3_copy = copy.deepcopy(pcd_3)\n",
    "pcd_4_copy = copy.deepcopy(pcd_4)\n"
   ]
  },
  {
   "cell_type": "code",
   "execution_count": 9,
   "metadata": {},
   "outputs": [
    {
     "name": "stdout",
     "output_type": "stream",
     "text": [
      "RegistrationResult with fitness=9.972222e-01, inlier_rmse=1.462995e+01, and correspondence_set size of 359\n",
      "Access transformation to get result.\n",
      "Transformation is:\n",
      "[[ 9.99348867e-01  3.60810385e-02  0.00000000e+00  3.88657061e+01]\n",
      " [-3.60810385e-02  9.99348867e-01  0.00000000e+00  1.61643649e+01]\n",
      " [ 0.00000000e+00  0.00000000e+00  1.00000000e+00  0.00000000e+00]\n",
      " [ 0.00000000e+00  0.00000000e+00  0.00000000e+00  1.00000000e+00]]\n",
      "RegistrationResult with fitness=1.000000e+00, inlier_rmse=2.493350e+01, and correspondence_set size of 360\n",
      "Access transformation to get result.\n",
      "Transformation is:\n",
      "[[  0.97493107   0.2225071    0.          13.56550903]\n",
      " [ -0.2225071    0.97493107   0.         -61.92267342]\n",
      " [  0.           0.           1.           0.        ]\n",
      " [  0.           0.           0.           1.        ]]\n",
      "RegistrationResult with fitness=1.000000e+00, inlier_rmse=2.657564e+01, and correspondence_set size of 360\n",
      "Access transformation to get result.\n",
      "Transformation is:\n",
      "[[  0.98285917  -0.18435795   0.         -10.58415239]\n",
      " [  0.18435795   0.98285917   0.         -36.01000517]\n",
      " [  0.           0.           1.           0.        ]\n",
      " [  0.           0.           0.           1.        ]]\n"
     ]
    }
   ],
   "source": [
    "# this is our base scan, we are matching all other scans to this\n",
    "target = pcd_1_copy\n",
    "# other point clouds\n",
    "sources = [pcd_2_copy, pcd_3_copy, pcd_4_copy]\n",
    "\n",
    "# initial transformation guess\n",
    "trans_init = np.eye(4,4)\n",
    "\n",
    "for source in sources:\n",
    "\n",
    "    reg_p2p = o3d.pipelines.registration.registration_icp(\n",
    "        source, \n",
    "        target, \n",
    "        200, \n",
    "        trans_init,\n",
    "        o3d.pipelines.registration.TransformationEstimationPointToPoint(),\n",
    "        o3d.pipelines.registration.ICPConvergenceCriteria(max_iteration=2000)\n",
    "    )\n",
    "\n",
    "    print(reg_p2p)\n",
    "    print(\"Transformation is:\")\n",
    "    print(reg_p2p.transformation)\n",
    "\n",
    "    source.transform(reg_p2p.transformation)\n"
   ]
  },
  {
   "cell_type": "code",
   "execution_count": 10,
   "metadata": {},
   "outputs": [],
   "source": [
    "def visualise(pcd_1, pcd_2, pcd_3, pcd_4, pcd_1_copy, pcd_2_copy, pcd_3_copy, pcd_4_copy):\n",
    "    # Original point cloud\n",
    "    pcd_1.translate((0,0,600))\n",
    "    pcd_2.translate((0,0,1000))\n",
    "    pcd_3.translate((0,0,1400))\n",
    "    pcd_4.translate((0,0,1800))\n",
    "\n",
    "    pcd_1.paint_uniform_color([0.8, 0, 0])\n",
    "    pcd_2.paint_uniform_color([0, 0.8, 0])\n",
    "    pcd_3.paint_uniform_color([0, 0, 0.8])\n",
    "    pcd_4.paint_uniform_color([1, 0.706, 0])\n",
    "\n",
    "\n",
    "    # matched point cloud\n",
    "    pcd_1_copy.translate((6000,0,600))\n",
    "    pcd_2_copy.translate((6000,0,1000))\n",
    "    pcd_3_copy.translate((6000,0,1400))\n",
    "    pcd_4_copy.translate((6000,0,1800))\n",
    "\n",
    "    pcd_1_copy.paint_uniform_color([0.8, 0, 0])\n",
    "    pcd_2_copy.paint_uniform_color([0, 0.8, 0])\n",
    "    pcd_3_copy.paint_uniform_color([0, 0, 0.8])\n",
    "    pcd_4_copy.paint_uniform_color([1, 0.706, 0])\n",
    "\n",
    "    o3d.visualization.draw_geometries(\n",
    "        [\n",
    "            pcd_1_copy, pcd_2_copy, pcd_3_copy, pcd_4_copy,\n",
    "            pcd_1, pcd_2, pcd_3, pcd_4\n",
    "        ]\n",
    "    )\n",
    "\n"
   ]
  },
  {
   "cell_type": "code",
   "execution_count": 11,
   "metadata": {},
   "outputs": [],
   "source": [
    "visualise(pcd_1, pcd_2, pcd_3, pcd_4, pcd_1_copy, pcd_2_copy, pcd_3_copy, pcd_4_copy)"
   ]
  },
  {
   "cell_type": "markdown",
   "metadata": {},
   "source": [
    "### Coherent point drift"
   ]
  },
  {
   "cell_type": "code",
   "execution_count": 28,
   "metadata": {},
   "outputs": [],
   "source": [
    "pcd_1 = o3d.io.read_point_cloud(f\"{BASE_PATH_POINTS}/1.txt\", format='xyz')\n",
    "pcd_2 = o3d.io.read_point_cloud(f\"{BASE_PATH_POINTS}/2.txt\", format='xyz')\n",
    "pcd_3 = o3d.io.read_point_cloud(f\"{BASE_PATH_POINTS}/3.txt\", format='xyz')\n",
    "pcd_4 = o3d.io.read_point_cloud(f\"{BASE_PATH_POINTS}/4.txt\", format='xyz')"
   ]
  },
  {
   "cell_type": "code",
   "execution_count": 33,
   "metadata": {},
   "outputs": [],
   "source": [
    "import copy\n",
    "from probreg import cpd\n",
    "\n",
    "pcd_1_copy = copy.deepcopy(pcd_1)\n",
    "pcd_2_copy = copy.deepcopy(pcd_2)\n",
    "pcd_3_copy = copy.deepcopy(pcd_3)\n",
    "pcd_4_copy = copy.deepcopy(pcd_4)\n",
    "\n",
    "# this is our base scan, we are matching all other scans to this\n",
    "target = pcd_1_copy\n",
    "# other point clouds\n",
    "sources = [pcd_2_copy, pcd_3_copy, pcd_4_copy]\n",
    "\n",
    "for source in sources:\n",
    "\n",
    "# compute cpd registration\n",
    "    tf_param, _, _ = cpd.registration_cpd(source, target)\n",
    "    source.points = tf_param.transform(source.points)\n",
    "\n",
    "    # draw result\n",
    "    source.paint_uniform_color([1, 0, 0])\n",
    "    target.paint_uniform_color([0, 1, 0])\n",
    "    o3d.visualization.draw_geometries([source, target])"
   ]
  },
  {
   "cell_type": "code",
   "execution_count": null,
   "metadata": {},
   "outputs": [],
   "source": [
    "visualise(pcd_1, pcd_2, pcd_3, pcd_4, pcd_1_copy, pcd_2_copy, pcd_3_copy, pcd_4_copy)"
   ]
  }
 ],
 "metadata": {
  "interpreter": {
   "hash": "b0aa12bf5579cf78caba855a2c0386a3f5275fa259fa513832903915fd82b38a"
  },
  "kernelspec": {
   "display_name": "Python 3",
   "language": "python",
   "name": "python3"
  },
  "language_info": {
   "codemirror_mode": {
    "name": "ipython",
    "version": 3
   },
   "file_extension": ".py",
   "mimetype": "text/x-python",
   "name": "python",
   "nbconvert_exporter": "python",
   "pygments_lexer": "ipython3",
   "version": "3.8.12"
  }
 },
 "nbformat": 4,
 "nbformat_minor": 2
}
