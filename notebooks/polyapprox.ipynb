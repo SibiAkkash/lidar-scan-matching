{
 "cells": [
  {
   "cell_type": "code",
   "execution_count": 129,
   "metadata": {},
   "outputs": [
    {
     "ename": "ModuleNotFoundError",
     "evalue": "No module named 'cv'",
     "output_type": "error",
     "traceback": [
      "\u001b[1;31m---------------------------------------------------------------------------\u001b[0m",
      "\u001b[1;31mModuleNotFoundError\u001b[0m                       Traceback (most recent call last)",
      "\u001b[1;32m<ipython-input-129-2d6dcd644ba5>\u001b[0m in \u001b[0;36m<module>\u001b[1;34m\u001b[0m\n\u001b[0;32m      2\u001b[0m \u001b[1;32mimport\u001b[0m \u001b[0mnumpy\u001b[0m \u001b[1;32mas\u001b[0m \u001b[0mnp\u001b[0m\u001b[1;33m\u001b[0m\u001b[1;33m\u001b[0m\u001b[0m\n\u001b[0;32m      3\u001b[0m \u001b[1;32mimport\u001b[0m \u001b[0mcv2\u001b[0m\u001b[1;33m\u001b[0m\u001b[1;33m\u001b[0m\u001b[0m\n\u001b[1;32m----> 4\u001b[1;33m \u001b[1;32mimport\u001b[0m \u001b[0mcv\u001b[0m\u001b[1;33m\u001b[0m\u001b[1;33m\u001b[0m\u001b[0m\n\u001b[0m\u001b[0;32m      5\u001b[0m \u001b[1;32mimport\u001b[0m \u001b[0mmatplotlib\u001b[0m\u001b[1;33m.\u001b[0m\u001b[0mpyplot\u001b[0m \u001b[1;32mas\u001b[0m \u001b[0mplt\u001b[0m\u001b[1;33m\u001b[0m\u001b[1;33m\u001b[0m\u001b[0m\n",
      "\u001b[1;31mModuleNotFoundError\u001b[0m: No module named 'cv'"
     ]
    }
   ],
   "source": [
    "# Importing all libraries\n",
    "import numpy as np\n",
    "import cv2\n",
    "import matplotlib.pyplot as plt"
   ]
  },
  {
   "cell_type": "code",
   "execution_count": 118,
   "metadata": {},
   "outputs": [
    {
     "name": "stderr",
     "output_type": "stream",
     "text": [
      "C:\\Users\\koush\\Anaconda3\\lib\\site-packages\\ipykernel_launcher.py:24: FutureWarning: arrays to stack must be passed as a \"sequence\" type such as list or tuple. Support for non-sequence iterables such as generators is deprecated as of NumPy 1.16 and will raise an error in the future.\n"
     ]
    }
   ],
   "source": [
    "# load image\n",
    "image = cv2.imread('layouts/test2.png')\n",
    "image2 = image.copy()\n",
    "cv2.imshow('Layout scan', image)\n",
    "# Grayscale\n",
    "gray = cv2.cvtColor(image,cv2.COLOR_BGR2GRAY)\n",
    "\n",
    "# thresholding image\n",
    "ret, thresh = cv2.threshold(gray, 15, 255, 0)\n",
    "kernel = np.ones((200,70), np.uint8)\n",
    "#thresh = cv2.dilate(thresh, kernel, iterations = 1)\n",
    "thresh = cv2.morphologyEx(thresh, cv2.MORPH_CLOSE, kernel)\n",
    "kernel1 = np.ones((8,8), np.uint8)\n",
    "thresh = cv2.morphologyEx(thresh, cv2.MORPH_BLACKHAT, kernel1)\n",
    "cv2.imshow('thresholded layout', thresh)\n",
    "\n",
    "\n",
    "#Finding contours\n",
    "contours, hierachy = cv2.findContours(thresh, cv2.RETR_TREE, cv2.CHAIN_APPROX_NONE)\n",
    "cv2.drawContours(image2, contours, -1, (0,255,255), 1)\n",
    "cv2.imshow('cnt', image2)\n",
    "\n",
    "length = len(contours)\n",
    "cont = np.vstack(contours[i] for i in range(length))\n",
    "\n",
    "hull = cv2.convexHull(cont)\n",
    "#epsilon = 0.009 * cv2.arcLength(cont, True)\n",
    "#approx = cv2.approxPolyDP(cont, epsilon, closed=False)\n",
    "cv2.drawContours(image, [hull], -1, (156,221,21),2)\n",
    "#cv2.drawContours(image, [approx], -1, (0,255,255),2)\n",
    "cv2.namedWindow('finalImg', cv2.WINDOW_NORMAL)\n",
    "cv2.imshow(\"finalImg\",image)\n",
    "cv2.waitKey(0)\n",
    "cv2.destroyAllWindows()"
   ]
  },
  {
   "cell_type": "code",
   "execution_count": 141,
   "metadata": {},
   "outputs": [
    {
     "name": "stderr",
     "output_type": "stream",
     "text": [
      "C:\\Users\\koush\\Anaconda3\\lib\\site-packages\\ipykernel_launcher.py:24: FutureWarning: arrays to stack must be passed as a \"sequence\" type such as list or tuple. Support for non-sequence iterables such as generators is deprecated as of NumPy 1.16 and will raise an error in the future.\n"
     ]
    },
    {
     "name": "stdout",
     "output_type": "stream",
     "text": [
      "(1316, 1869)\n",
      "255\n"
     ]
    }
   ],
   "source": [
    "# load image\n",
    "image = cv2.imread('layouts/test2.png')\n",
    "\n",
    "cv2.namedWindow('layout', cv2.WINDOW_NORMAL)\n",
    "cv2.imshow('layout', image)\n",
    "\n",
    "# Grayscale\n",
    "gray = cv2.cvtColor(image,cv2.COLOR_BGR2GRAY)\n",
    "\n",
    "# thresholding image\n",
    "ret, thresh = cv2.threshold(gray, 15, 255, 0)\n",
    "kernel = np.ones((9,9), np.uint8)\n",
    "#thresh = cv2.erode(thresh, None, iterations=1)\n",
    "thresh = cv2.dilate(thresh, kernel, iterations = 4)\n",
    "thresh = cv2.morphologyEx(thresh, cv2.MORPH_CLOSE, kernel)\n",
    "kernel1 = np.ones((4,4), np.uint8)\n",
    "thresh = cv2.morphologyEx(thresh, cv2.MORPH_BLACKHAT, kernel1)\n",
    "cv2.namedWindow('threshold', cv2.WINDOW_NORMAL)\n",
    "cv2.imshow('threshold', thresh)\n",
    "\n",
    "#Finding contours\n",
    "contours, hierachy = cv2.findContours(thresh, cv2.RETR_TREE, cv2.CHAIN_APPROX_NONE)\n",
    "length = len(contours)\n",
    "cont = np.vstack(contours[i] for i in range(length))\n",
    "print(thresh.shape)\n",
    "print(np.max(thresh))\n",
    "#thresh = cv2.merge([thresh,thresh,thresh])\n",
    "thresh = cv2.cvtColor(thresh,cv2.COLOR_GRAY2RGB) \n",
    "hull = cv2.convexHull(cont)\n",
    "#epsilon = 0.009 * cv2.arcLength(cont, True)\n",
    "#approx = cv2.approxPolyDP(cont, epsilon, closed=False)\n",
    "cv2.drawContours(thresh, [hull], -1, (156,221,21),2)\n",
    "#cv2.drawContours(image, [approx], -1, (0,255,255),2)\n",
    "cv2.namedWindow('finalImg', cv2.WINDOW_NORMAL)\n",
    "cv2.imshow(\"finalImg\",thresh)\n",
    "cv2.waitKey(0)\n",
    "cv2.destroyAllWindows()"
   ]
  },
  {
   "cell_type": "code",
   "execution_count": null,
   "metadata": {},
   "outputs": [],
   "source": []
  },
  {
   "cell_type": "code",
   "execution_count": 51,
   "metadata": {},
   "outputs": [],
   "source": [
    "def angle_ABC(a, b, c):\n",
    "    \n",
    "    \"\"\" angle_ABC returns angle in degrees,\n",
    "    it requires three points a - b - c and returns angle for point b \"\"\"\n",
    "    \n",
    "    ba = a - b\n",
    "    bc = c - b\n",
    "\n",
    "    cosine_angle = np.dot(ba, bc) / (np.linalg.norm(ba) * np.linalg.norm(bc))\n",
    "    angle = np.arccos(cosine_angle)\n",
    "    return np.degrees(angle)\n",
    "\n",
    "def find_bad_dists(hull, distance = 10):\n",
    "    \"\"\"Seach for distances between consecutive two points in contour and returns mask of point that is to close to the next\"\"\"\n",
    "    mask = []\n",
    "    points, _, _ = hull.shape\n",
    "\n",
    "    for i in range(points):\n",
    "        # determine points to compare and make sure that last and first are compared too\n",
    "        ai = i\n",
    "        bi = (i+1)%points\n",
    "        # x, y for both points\n",
    "        x1 = hull[ai][0][0]\n",
    "        y1 = hull[ai][0][1]\n",
    "        x2 = hull[bi][0][0]\n",
    "        y2 = hull[bi][0][1]\n",
    "        \n",
    "        #distance \n",
    "        dist = np.sqrt((x2 - x1)**2 + (y2 - y1)**2 )\n",
    "        #build mask with distances out ot range\n",
    "        if dist < distance:\n",
    "            print('point nr =', bi, ' -> distance =',dist)\n",
    "            mask.append(bi)\n",
    "    return mask\n",
    "    \n",
    "    \n",
    "\n",
    "def find_bad_angles(hull, acute_angle = 30, obtuse_angle = 140):\n",
    "    \"\"\"Seach for angles between points in contour and returns mask of contours smaller than acute and larger than obtuse\"\"\"\n",
    "    mask = []\n",
    "    points, _, _ = hull.shape\n",
    "\n",
    "    for i in range(points):\n",
    "        # determine points to compare angle and make sure that last and first are compared too\n",
    "        ai = i\n",
    "        bi = (i+1)%points\n",
    "        ci = (i+2)%points\n",
    "\n",
    "        #print('ai = ', ai,'bi = ',bi, 'ci = ', ci)\n",
    "        #selecting points for angle\n",
    "        a = hull[ai][0]\n",
    "        b = hull[bi][0]\n",
    "        c = hull[ci][0]\n",
    "        \n",
    "        #obtain angles        \n",
    "        angle = angle_ABC(a, b, c)\n",
    "        #print(angle, bi)\n",
    "        #build mask with angles out ot range\n",
    "        if angle > obtuse_angle or angle < acute_angle:\n",
    "            print('point nr =', bi, ' -> angle =',angle)\n",
    "            mask.append(bi)\n",
    "    return mask\n",
    "\n",
    "def mark_points(hull):\n",
    "    \"\"\"plots circles of diggerent sizes and colors around points for visual examination, \n",
    "    if points are ovelaping it will be reviled by different size of circels in the same place\"\"\"\n",
    "    points, _, _ = hull.shape\n",
    "    \n",
    "    for i in range(points):\n",
    "        r = int(np.random.randint(100,255,1)[0])\n",
    "        g = int(np.random.randint(100,255,1)[0])\n",
    "        b = int(np.random.randint(100,255,1)[0])\n",
    "\n",
    "        cv2.circle(image, (hull[i][0][0], hull[i][0][1]) , np.random.randint(10,20,1)[0], (r,g,b), 2)"
   ]
  },
  {
   "cell_type": "code",
   "execution_count": 67,
   "metadata": {},
   "outputs": [
    {
     "name": "stdout",
     "output_type": "stream",
     "text": [
      "point nr = 0  -> distance = 1.0\n",
      "point nr = 2  -> angle = 164.3427195956838\n",
      "point nr = 3  -> angle = 163.5038004677956\n",
      "point nr = 4  -> angle = 148.07989310236496\n",
      "point nr = 5  -> angle = 172.47837556260748\n"
     ]
    },
    {
     "name": "stderr",
     "output_type": "stream",
     "text": [
      "C:\\Users\\koush\\Anaconda3\\lib\\site-packages\\ipykernel_launcher.py:30: FutureWarning: arrays to stack must be passed as a \"sequence\" type such as list or tuple. Support for non-sequence iterables such as generators is deprecated as of NumPy 1.16 and will raise an error in the future.\n"
     ]
    },
    {
     "data": {
      "text/plain": [
       "Text(0.5, 1.0, 'AFTER')"
      ]
     },
     "execution_count": 67,
     "metadata": {},
     "output_type": "execute_result"
    },
    {
     "data": {
      "image/png": "[encoded data removed]",
      "text/plain": [
       "<Figure size 1080x576 with 2 Axes>"
      ]
     },
     "metadata": {
      "needs_background": "light"
     },
     "output_type": "display_data"
    }
   ],
   "source": [
    "# load image\n",
    "img = cv2.imread('layouts/test3.png')\n",
    "image2 = img.copy()\n",
    "cv2.imshow('Layout scan', img)\n",
    "# Grayscale\n",
    "gray = cv2.cvtColor(img,cv2.COLOR_BGR2GRAY)\n",
    "\n",
    "# thresholding image\n",
    "ret, thresh = cv2.threshold(gray, 15, 255, 0)\n",
    "kernel = np.ones((200,70), np.uint8)\n",
    "#thresh = cv2.dilate(thresh, kernel, iterations = 1)\n",
    "thresh = cv2.morphologyEx(thresh, cv2.MORPH_CLOSE, kernel)\n",
    "kernel1 = np.ones((8,8), np.uint8)\n",
    "thresh = cv2.morphologyEx(thresh, cv2.MORPH_BLACKHAT, kernel1)\n",
    "cv2.imshow('thresholded layout', thresh)\n",
    "\n",
    "#Finding contours\n",
    "contours, hierachy = cv2.findContours(thresh, cv2.RETR_TREE, cv2.CHAIN_APPROX_NONE)\n",
    "length = len(contours)\n",
    "\n",
    "#image =  img = cv2.cvtColor(img,cv2.COLOR_GRAY2RGB) \n",
    "\n",
    "\n",
    "#size of contour points\n",
    "length = len(contours)\n",
    "\n",
    "# here filtering shapes\n",
    "\n",
    "#concatinate poits form all shapes into one array\n",
    "cont = np.vstack(contours[i] for i in range(length))\n",
    "\n",
    "#looking now for four corners\n",
    "\n",
    "#filter down irreleveant poits\n",
    "cnt_len = cv2.arcLength(cont, True)\n",
    "cont = cv2.approxPolyDP(cont, .01*cnt_len, True)\n",
    "hull = cv2.convexHull(cont)\n",
    "\n",
    "\n",
    "#filter out poits that are to close to each other\n",
    "mask = find_bad_dists(hull)\n",
    "hull = np.delete(hull, mask, axis=0)\n",
    "\n",
    "\n",
    "#filter out bad corneres, if they are beteween 120-180\n",
    "#they are random points in the middle of edge \n",
    "mask = find_bad_angles(hull)\n",
    "hull = np.delete(hull, mask, axis=0)\n",
    "\n",
    "\n",
    "#higlight poits\n",
    "mark_points(hull)\n",
    "        \n",
    "uni_hull = []\n",
    "uni_hull.append(hull) # <- array as first element of list\n",
    "cv2.drawContours(image,uni_hull,-1,255,2);\n",
    "\n",
    "\n",
    "# fombined figure\n",
    "fig=plt.figure(figsize=(15, 8))\n",
    "columns = 2\n",
    "rows = 1\n",
    "fig.add_subplot(1, 2, 1)\n",
    "plt.imshow(img_raw, cmap='gray')\n",
    "plt.axis('off')\n",
    "plt.title('BEFORE')\n",
    "\n",
    "fig.add_subplot(1, 2, 2)\n",
    "plt.imshow(image)\n",
    "plt.axis('off')\n",
    "plt.title('AFTER')\n"
   ]
  },
  {
   "cell_type": "code",
   "execution_count": null,
   "metadata": {},
   "outputs": [],
   "source": []
  },
  {
   "cell_type": "markdown",
   "metadata": {},
   "source": [
    "## "
   ]
  }
 ],
 "metadata": {
  "kernelspec": {
   "display_name": "Python 3",
   "language": "python",
   "name": "python3"
  },
  "language_info": {
   "codemirror_mode": {
    "name": "ipython",
    "version": 3
   },
   "file_extension": ".py",
   "mimetype": "text/x-python",
   "name": "python",
   "nbconvert_exporter": "python",
   "pygments_lexer": "ipython3",
   "version": "3.7.3"
  }
 },
 "nbformat": 4,
 "nbformat_minor": 2
}
