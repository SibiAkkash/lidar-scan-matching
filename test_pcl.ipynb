{
 "cells": [
  {
   "cell_type": "code",
   "execution_count": 2,
   "metadata": {},
   "outputs": [],
   "source": [
    "import numpy\n",
    "import pcl\n",
    "import pcl.pcl_visualization"
   ]
  },
  {
   "cell_type": "code",
   "execution_count": 6,
   "metadata": {},
   "outputs": [],
   "source": [
    "cloud = pcl.load('points_3_pcd.txt', format='pcd')"
   ]
  },
  {
   "cell_type": "code",
   "execution_count": 8,
   "metadata": {},
   "outputs": [],
   "source": [
    "detector = cloud.make_HarrisKeypoint3D()"
   ]
  },
  {
   "cell_type": "code",
   "execution_count": 10,
   "metadata": {},
   "outputs": [],
   "source": [
    "keypoints = detector.compute()"
   ]
  },
  {
   "cell_type": "code",
   "execution_count": 16,
   "metadata": {},
   "outputs": [
    {
     "data": {
      "text/plain": [
       "529"
      ]
     },
     "execution_count": 16,
     "metadata": {},
     "output_type": "execute_result"
    }
   ],
   "source": [
    "len(keypoints.to_array())"
   ]
  },
  {
   "cell_type": "code",
   "execution_count": 12,
   "metadata": {},
   "outputs": [
    {
     "ename": "TypeError",
     "evalue": "Argument 'pc' has incorrect type (expected pcl._pcl.PointCloud, got pcl._pcl.PointCloud_PointXYZI)",
     "output_type": "error",
     "traceback": [
      "\u001b[0;31m---------------------------------------------------------------------------\u001b[0m",
      "\u001b[0;31mTypeError\u001b[0m                                 Traceback (most recent call last)",
      "\u001b[0;32m<ipython-input-12-0b95563d487c>\u001b[0m in \u001b[0;36m<module>\u001b[0;34m()\u001b[0m\n\u001b[1;32m      4\u001b[0m \u001b[0;34m\u001b[0m\u001b[0m\n\u001b[1;32m      5\u001b[0m kpcolor = pcl.pcl_visualization.PointCloudColorHandleringCustom(\n\u001b[0;32m----> 6\u001b[0;31m     keypoints, 255, 0, 0)\n\u001b[0m\u001b[1;32m      7\u001b[0m \u001b[0;34m\u001b[0m\u001b[0m\n\u001b[1;32m      8\u001b[0m \u001b[0mviewer\u001b[0m\u001b[0;34m.\u001b[0m\u001b[0maddPointCloud\u001b[0m\u001b[0;34m(\u001b[0m\u001b[0mcloud\u001b[0m\u001b[0;34m,\u001b[0m \u001b[0mpccolor\u001b[0m\u001b[0;34m,\u001b[0m \u001b[0;34m\"testimg.png\"\u001b[0m\u001b[0;34m)\u001b[0m\u001b[0;34m\u001b[0m\u001b[0;34m\u001b[0m\u001b[0m\n",
      "\u001b[0;31mTypeError\u001b[0m: Argument 'pc' has incorrect type (expected pcl._pcl.PointCloud, got pcl._pcl.PointCloud_PointXYZI)"
     ]
    }
   ],
   "source": [
    "viewer = pcl.pcl_visualization.PCLVisualizering(b\"3D Viewer\")\n",
    "pccolor = pcl.pcl_visualization.PointCloudColorHandleringCustom(\n",
    "        cloud, 255, 255, 255)\n",
    "\n",
    "kpcolor = pcl.pcl_visualization.PointCloudColorHandleringCustom(\n",
    "    keypoints, 255, 0, 0)\n",
    "\n",
    "viewer.addPointCloud(cloud, pccolor, \"testimg.png\")\n",
    "viewer.addPointCloud(keypoints, kpcolor, \"keypoints.png\")\n",
    "\n",
    "v = True\n",
    "while v:\n",
    "    v = not(viewer.WasStopped())\n",
    "    viewer.spinOnce()"
   ]
  },
  {
   "cell_type": "code",
   "execution_count": null,
   "metadata": {},
   "outputs": [],
   "source": []
  }
 ],
 "metadata": {
  "interpreter": {
   "hash": "b0aa12bf5579cf78caba855a2c0386a3f5275fa259fa513832903915fd82b38a"
  },
  "kernelspec": {
   "display_name": "Python 3.8.12 64-bit ('py38': conda)",
   "language": "python",
   "name": "python3"
  },
  "language_info": {
   "codemirror_mode": {
    "name": "ipython",
    "version": 3
   },
   "file_extension": ".py",
   "mimetype": "text/x-python",
   "name": "python",
   "nbconvert_exporter": "python",
   "pygments_lexer": "ipython3",
   "version": "3.6.13"
  },
  "orig_nbformat": 4
 },
 "nbformat": 4,
 "nbformat_minor": 2
}
