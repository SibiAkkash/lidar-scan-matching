{
 "cells": [
  {
   "cell_type": "code",
   "execution_count": 1,
   "metadata": {},
   "outputs": [],
   "source": [
    "import numpy\n",
    "import pcl\n",
    "import pcl.pcl_visualization"
   ]
  },
  {
   "cell_type": "code",
   "execution_count": 6,
   "metadata": {},
   "outputs": [],
   "source": [
    "cloud_in = pcl.load('points_test_1.txt', format='pcd')\n",
    "cloud_out = pcl.load('points_test_2.txt', format='pcd')"
   ]
  },
  {
   "cell_type": "code",
   "execution_count": null,
   "metadata": {},
   "outputs": [],
   "source": []
  },
  {
   "cell_type": "code",
   "execution_count": 3,
   "metadata": {},
   "outputs": [],
   "source": [
    "# detector = cloud.make_HarrisKeypoint3D()"
   ]
  },
  {
   "cell_type": "code",
   "execution_count": 4,
   "metadata": {},
   "outputs": [],
   "source": [
    "# keypoints = detector.compute()"
   ]
  },
  {
   "cell_type": "code",
   "execution_count": 5,
   "metadata": {},
   "outputs": [
    {
     "data": {
      "text/plain": [
       "529"
      ]
     },
     "execution_count": 5,
     "metadata": {},
     "output_type": "execute_result"
    }
   ],
   "source": [
    "# len(keypoints.to_array())"
   ]
  },
  {
   "cell_type": "code",
   "execution_count": 9,
   "metadata": {},
   "outputs": [
    {
     "ename": "ValueError",
     "evalue": "order must be one of 'C', 'F', 'A', or 'K' (got 'fortran')",
     "output_type": "error",
     "traceback": [
      "\u001b[0;31m---------------------------------------------------------------------------\u001b[0m",
      "\u001b[0;31mValueError\u001b[0m                                Traceback (most recent call last)",
      "\u001b[0;32m<ipython-input-9-08ddfd509508>\u001b[0m in \u001b[0;36m<module>\u001b[0;34m()\u001b[0m\n\u001b[1;32m      1\u001b[0m \u001b[0micp\u001b[0m \u001b[0;34m=\u001b[0m \u001b[0mcloud_in\u001b[0m\u001b[0;34m.\u001b[0m\u001b[0mmake_IterativeClosestPoint\u001b[0m\u001b[0;34m(\u001b[0m\u001b[0;34m)\u001b[0m\u001b[0;34m\u001b[0m\u001b[0;34m\u001b[0m\u001b[0m\n\u001b[0;32m----> 2\u001b[0;31m \u001b[0mconverged\u001b[0m\u001b[0;34m,\u001b[0m \u001b[0mtransf\u001b[0m\u001b[0;34m,\u001b[0m \u001b[0mestimate\u001b[0m\u001b[0;34m,\u001b[0m \u001b[0mfitness\u001b[0m \u001b[0;34m=\u001b[0m \u001b[0micp\u001b[0m\u001b[0;34m.\u001b[0m\u001b[0micp\u001b[0m\u001b[0;34m(\u001b[0m\u001b[0mcloud_in\u001b[0m\u001b[0;34m,\u001b[0m \u001b[0mcloud_out\u001b[0m\u001b[0;34m)\u001b[0m\u001b[0;34m\u001b[0m\u001b[0;34m\u001b[0m\u001b[0m\n\u001b[0m\u001b[1;32m      3\u001b[0m \u001b[0mprint\u001b[0m\u001b[0;34m(\u001b[0m\u001b[0;34m'has converged:'\u001b[0m \u001b[0;34m+\u001b[0m \u001b[0mstr\u001b[0m\u001b[0;34m(\u001b[0m\u001b[0mconverged\u001b[0m\u001b[0;34m)\u001b[0m \u001b[0;34m+\u001b[0m \u001b[0;34m' score: '\u001b[0m \u001b[0;34m+\u001b[0m \u001b[0mstr\u001b[0m\u001b[0;34m(\u001b[0m\u001b[0mfitness\u001b[0m\u001b[0;34m)\u001b[0m\u001b[0;34m)\u001b[0m\u001b[0;34m\u001b[0m\u001b[0;34m\u001b[0m\u001b[0m\n\u001b[1;32m      4\u001b[0m \u001b[0mprint\u001b[0m\u001b[0;34m(\u001b[0m\u001b[0mstr\u001b[0m\u001b[0;34m(\u001b[0m\u001b[0mtransf\u001b[0m\u001b[0;34m)\u001b[0m\u001b[0;34m)\u001b[0m\u001b[0;34m\u001b[0m\u001b[0;34m\u001b[0m\u001b[0m\n",
      "\u001b[0;32mpcl/pxi/registration/IterativeClosestPoint_180.pxi\u001b[0m in \u001b[0;36mpcl._pcl.IterativeClosestPoint.icp (pcl/_pcl_180.cpp:50943)\u001b[0;34m()\u001b[0m\n",
      "\u001b[0;32mpcl/pxi/registration/IterativeClosestPoint_180.pxi\u001b[0m in \u001b[0;36mpcl._pcl.IterativeClosestPoint.run (pcl/_pcl_180.cpp:50716)\u001b[0;34m()\u001b[0m\n",
      "\u001b[0;31mValueError\u001b[0m: order must be one of 'C', 'F', 'A', or 'K' (got 'fortran')"
     ]
    }
   ],
   "source": [
    "icp = cloud_in.make_IterativeClosestPoint()\n",
    "converged, transf, estimate, fitness = icp.icp(cloud_in, cloud_out)\n",
    "print('has converged:' + str(converged) + ' score: ' + str(fitness))\n",
    "print(str(transf))"
   ]
  },
  {
   "cell_type": "code",
   "execution_count": 14,
   "metadata": {},
   "outputs": [],
   "source": [
    "import numpy as np\n",
    "import random\n",
    "\n",
    "cloud_in = pcl.PointCloud()\n",
    "cloud_out = pcl.PointCloud()\n",
    "points_in = np.zeros((5, 3), dtype=np.float32)\n",
    "RAND_MAX = 1024.0\n",
    "for i in range(0, 5):\n",
    "    points_in[i][0] = 1024 * random.random() / RAND_MAX\n",
    "    points_in[i][1] = 1024 * random.random() / RAND_MAX\n",
    "    points_in[i][2] = 1024 * random.random() / RAND_MAX\n",
    "\n",
    "cloud_in.from_array(points_in)"
   ]
  },
  {
   "cell_type": "code",
   "execution_count": 15,
   "metadata": {},
   "outputs": [
    {
     "name": "stdout",
     "output_type": "stream",
     "text": [
      "Saved 5 data points to input:\n"
     ]
    }
   ],
   "source": [
    "print('Saved ' + str(cloud_in.size) + ' data points to input:')\n",
    "points_out = np.zeros((5, 3), dtype=np.float32)"
   ]
  },
  {
   "cell_type": "code",
   "execution_count": 16,
   "metadata": {},
   "outputs": [
    {
     "name": "stdout",
     "output_type": "stream",
     "text": [
      "size:15\n"
     ]
    }
   ],
   "source": [
    "print('size:' + str(points_out.size))\n",
    "for i in range(0, cloud_in.size):\n",
    "    points_out[i][0] = points_in[i][0] + 0.7\n",
    "    points_out[i][1] = points_in[i][1]\n",
    "    points_out[i][2] = points_in[i][2]\n",
    "\n",
    "cloud_out.from_array(points_out)"
   ]
  },
  {
   "cell_type": "code",
   "execution_count": 17,
   "metadata": {},
   "outputs": [
    {
     "name": "stdout",
     "output_type": "stream",
     "text": [
      "Transformed 5 data points:\n"
     ]
    }
   ],
   "source": [
    "print('Transformed ' + str(cloud_in.size) + ' data points:')"
   ]
  },
  {
   "cell_type": "code",
   "execution_count": 18,
   "metadata": {},
   "outputs": [
    {
     "ename": "ValueError",
     "evalue": "order must be one of 'C', 'F', 'A', or 'K' (got 'fortran')",
     "output_type": "error",
     "traceback": [
      "\u001b[0;31m---------------------------------------------------------------------------\u001b[0m",
      "\u001b[0;31mValueError\u001b[0m                                Traceback (most recent call last)",
      "\u001b[0;32m<ipython-input-18-08ddfd509508>\u001b[0m in \u001b[0;36m<module>\u001b[0;34m()\u001b[0m\n\u001b[1;32m      1\u001b[0m \u001b[0micp\u001b[0m \u001b[0;34m=\u001b[0m \u001b[0mcloud_in\u001b[0m\u001b[0;34m.\u001b[0m\u001b[0mmake_IterativeClosestPoint\u001b[0m\u001b[0;34m(\u001b[0m\u001b[0;34m)\u001b[0m\u001b[0;34m\u001b[0m\u001b[0;34m\u001b[0m\u001b[0m\n\u001b[0;32m----> 2\u001b[0;31m \u001b[0mconverged\u001b[0m\u001b[0;34m,\u001b[0m \u001b[0mtransf\u001b[0m\u001b[0;34m,\u001b[0m \u001b[0mestimate\u001b[0m\u001b[0;34m,\u001b[0m \u001b[0mfitness\u001b[0m \u001b[0;34m=\u001b[0m \u001b[0micp\u001b[0m\u001b[0;34m.\u001b[0m\u001b[0micp\u001b[0m\u001b[0;34m(\u001b[0m\u001b[0mcloud_in\u001b[0m\u001b[0;34m,\u001b[0m \u001b[0mcloud_out\u001b[0m\u001b[0;34m)\u001b[0m\u001b[0;34m\u001b[0m\u001b[0;34m\u001b[0m\u001b[0m\n\u001b[0m\u001b[1;32m      3\u001b[0m \u001b[0mprint\u001b[0m\u001b[0;34m(\u001b[0m\u001b[0;34m'has converged:'\u001b[0m \u001b[0;34m+\u001b[0m \u001b[0mstr\u001b[0m\u001b[0;34m(\u001b[0m\u001b[0mconverged\u001b[0m\u001b[0;34m)\u001b[0m \u001b[0;34m+\u001b[0m \u001b[0;34m' score: '\u001b[0m \u001b[0;34m+\u001b[0m \u001b[0mstr\u001b[0m\u001b[0;34m(\u001b[0m\u001b[0mfitness\u001b[0m\u001b[0;34m)\u001b[0m\u001b[0;34m)\u001b[0m\u001b[0;34m\u001b[0m\u001b[0;34m\u001b[0m\u001b[0m\n\u001b[1;32m      4\u001b[0m \u001b[0mprint\u001b[0m\u001b[0;34m(\u001b[0m\u001b[0mstr\u001b[0m\u001b[0;34m(\u001b[0m\u001b[0mtransf\u001b[0m\u001b[0;34m)\u001b[0m\u001b[0;34m)\u001b[0m\u001b[0;34m\u001b[0m\u001b[0;34m\u001b[0m\u001b[0m\n",
      "\u001b[0;32mpcl/pxi/registration/IterativeClosestPoint_180.pxi\u001b[0m in \u001b[0;36mpcl._pcl.IterativeClosestPoint.icp (pcl/_pcl_180.cpp:50943)\u001b[0;34m()\u001b[0m\n",
      "\u001b[0;32mpcl/pxi/registration/IterativeClosestPoint_180.pxi\u001b[0m in \u001b[0;36mpcl._pcl.IterativeClosestPoint.run (pcl/_pcl_180.cpp:50716)\u001b[0;34m()\u001b[0m\n",
      "\u001b[0;31mValueError\u001b[0m: order must be one of 'C', 'F', 'A', or 'K' (got 'fortran')"
     ]
    }
   ],
   "source": [
    "icp = cloud_in.make_IterativeClosestPoint()\n",
    "converged, transf, estimate, fitness = icp.icp(cloud_in, cloud_out)\n",
    "print('has converged:' + str(converged) + ' score: ' + str(fitness))\n",
    "print(str(transf))"
   ]
  },
  {
   "cell_type": "code",
   "execution_count": null,
   "metadata": {},
   "outputs": [],
   "source": []
  }
 ],
 "metadata": {
  "interpreter": {
   "hash": "b0aa12bf5579cf78caba855a2c0386a3f5275fa259fa513832903915fd82b38a"
  },
  "kernelspec": {
   "display_name": "Python 3.8.12 64-bit ('py38': conda)",
   "language": "python",
   "name": "python3"
  },
  "language_info": {
   "codemirror_mode": {
    "name": "ipython",
    "version": 3
   },
   "file_extension": ".py",
   "mimetype": "text/x-python",
   "name": "python",
   "nbconvert_exporter": "python",
   "pygments_lexer": "ipython3",
   "version": "3.6.13"
  },
  "orig_nbformat": 4
 },
 "nbformat": 4,
 "nbformat_minor": 2
}
