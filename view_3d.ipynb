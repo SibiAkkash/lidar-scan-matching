{
 "cells": [
  {
   "cell_type": "code",
   "execution_count": 185,
   "metadata": {},
   "outputs": [],
   "source": [
    "import open3d as o3d\n",
    "import numpy as np\n",
    "import math\n",
    "import copy"
   ]
  },
  {
   "cell_type": "code",
   "execution_count": 184,
   "metadata": {},
   "outputs": [],
   "source": [
    "def write_pcd(file, out_file='pcd.txt', height=0):\n",
    "    \"\"\" write one measurement per angle to out file (in euclidean format) \"\"\"\n",
    "    angles = []\n",
    "    distances = []\n",
    "    seen = set()\n",
    "\n",
    "    with open(file, 'r') as f:\n",
    "        lines = f.readlines()\n",
    "        for line in lines:\n",
    "            angle, dist, quality = map(lambda x : float(x.split(':')[1]), line.split())\n",
    "            angle = math.floor(angle)\n",
    "            if angle not in seen:\n",
    "                angles.append(math.radians(angle))\n",
    "                distances.append(dist)\n",
    "                seen.add(angle)\n",
    "\n",
    "    angles = np.array(angles)\n",
    "    distances = np.array(distances)\n",
    "    \n",
    "    points_x = np.cos(angles) * distances\n",
    "    points_y = np.sin(angles) * distances\n",
    "\n",
    "    # write in x y z format for open3d\n",
    "    with open(out_file, 'w') as f:\n",
    "        for x, y in zip(points_x, points_y):\n",
    "            f.write(f'{x} {y} {height}\\n')\n",
    "\n"
   ]
  },
  {
   "cell_type": "code",
   "execution_count": 190,
   "metadata": {},
   "outputs": [],
   "source": [
    "write_pcd('out/1.txt', out_file='out_uni/1.txt')\n",
    "write_pcd('out/2.txt', out_file='out_uni/2.txt')\n",
    "write_pcd('out/3.txt', out_file='out_uni/3.txt')\n",
    "write_pcd('out/4.txt', out_file='out_uni/4.txt')\n"
   ]
  },
  {
   "cell_type": "code",
   "execution_count": 148,
   "metadata": {},
   "outputs": [],
   "source": [
    "# pcd = o3d.io.read_point_cloud(\"small_room_euclid/sm_points_1.txt\", format='xyz')\n",
    "# print(pcd)\n",
    "# pcd.paint_uniform_color([0.5, 0, 0.8])\n",
    "# o3d.visualization.draw_geometries([pcd],\n",
    "#                                    zoom=0.3412,\n",
    "#                                    front=[0.4257, -0.2125, -0.8795],\n",
    "#                                    lookat=[2.6172, 2.0475, 1.532],\n",
    "#                                    up=[-0.0694, -0.9768, 0.2024])"
   ]
  },
  {
   "cell_type": "code",
   "execution_count": 169,
   "metadata": {},
   "outputs": [],
   "source": [
    "# pcd_1 = o3d.io.read_point_cloud(\"small_room_euclid/sm_points_1.txt\", format='xyz')\n",
    "# pcd_2 = o3d.io.read_point_cloud(\"small_room_euclid/sm_points_2.txt\", format='xyz')\n",
    "pcd_3 = o3d.io.read_point_cloud(\"sme_uni/sm_points_3.txt\", format='xyz')\n",
    "pcd_4 = o3d.io.read_point_cloud(\"sme_uni/sm_points_4.txt\", format='xyz')\n",
    "pcd_wm = o3d.io.read_point_cloud(\"sme_uni/sm_points_wm.txt\", format='xyz')\n",
    "pcd_side = o3d.io.read_point_cloud(\"sme_uni/sm_points_side.txt\", format='xyz')\n",
    "# pcd_5 = o3d.io.read_point_cloud(\"small_room_euclid/sm_points_5.txt\", format='xyz')\n"
   ]
  },
  {
   "cell_type": "code",
   "execution_count": 222,
   "metadata": {},
   "outputs": [],
   "source": [
    "pcd_1 = o3d.io.read_point_cloud(\"out_uni/1.txt\", format='xyz')\n",
    "pcd_2 = o3d.io.read_point_cloud(\"out_uni/2.txt\", format='xyz')\n",
    "pcd_3 = o3d.io.read_point_cloud(\"out_uni/3.txt\", format='xyz')\n",
    "pcd_4 = o3d.io.read_point_cloud(\"out_uni/4.txt\", format='xyz')\n"
   ]
  },
  {
   "cell_type": "code",
   "execution_count": 170,
   "metadata": {},
   "outputs": [
    {
     "data": {
      "text/plain": [
       "PointCloud with 360 points."
      ]
     },
     "execution_count": 170,
     "metadata": {},
     "output_type": "execute_result"
    }
   ],
   "source": [
    "pcd_wm.rotate(\n",
    "    pcd_wm.get_rotation_matrix_from_xyz((0, 0, 1.05*np.pi)),\n",
    "    center=(0, 0, 0)\n",
    ")\n",
    "pcd_side.rotate(\n",
    "    pcd_side.get_rotation_matrix_from_xyz((0, 0, 1.05*np.pi)),\n",
    "    center=(0, 0, 0)\n",
    ")\n",
    "    \n",
    "# print(np.asarray(pcd_side.points).mean(axis=0, keepdims=True))\n",
    "# print(np.asarray(pcd_wm.points).mean(axis=0, keepdims=True))\n",
    "# print(np.asarray(pcd_3.points).mean(axis=0, keepdims=True))\n",
    "# print(np.asarray(pcd_4.points).mean(axis=0, keepdims=True))\n",
    "\n",
    "\n",
    "# o3d.visualization.draw_geometries([pcd_wm, pcd_side, pcd_3, pcd_4])"
   ]
  },
  {
   "cell_type": "markdown",
   "metadata": {},
   "source": [
    "### outlier removal"
   ]
  },
  {
   "cell_type": "code",
   "execution_count": 3,
   "metadata": {},
   "outputs": [],
   "source": [
    "def display_inlier_outlier(cloud, ind):\n",
    "    inlier_cloud = cloud.select_by_index(ind)\n",
    "    outlier_cloud = cloud.select_by_index(ind, invert=True)\n",
    "\n",
    "    print(\"Showing outliers (red) and inliers (green: \")\n",
    "    outlier_cloud.paint_uniform_color([1, 0, 0])\n",
    "    inlier_cloud.paint_uniform_color([0, 1, 0])\n",
    "    o3d.visualization.draw_geometries([inlier_cloud, outlier_cloud],\n",
    "                                      zoom=0.3412,\n",
    "                                      front=[0.4257, -0.2125, -0.8795],\n",
    "                                      lookat=[2.6172, 2.0475, 1.532],\n",
    "                                      up=[-0.0694, -0.9768, 0.2024])"
   ]
  },
  {
   "cell_type": "code",
   "execution_count": 4,
   "metadata": {},
   "outputs": [],
   "source": [
    "def remove_outliers(pcd):\n",
    "    cl, ind = pcd.remove_statistical_outlier(nb_neighbors=20,\n",
    "                                                    std_ratio=2.0)\n",
    "    return cl"
   ]
  },
  {
   "cell_type": "code",
   "execution_count": 28,
   "metadata": {},
   "outputs": [
    {
     "name": "stdout",
     "output_type": "stream",
     "text": [
      "Statistical oulier removal\n"
     ]
    }
   ],
   "source": [
    "pcd = o3d.io.read_point_cloud(\"small_room_euclid/sm_points_side.txt\", format='xyz')\n",
    "print(\"Statistical oulier removal\")\n",
    "cl, ind = pcd.remove_statistical_outlier(nb_neighbors=20,\n",
    "                                                    std_ratio=2.0)\n",
    "display_inlier_outlier(pcd, ind)"
   ]
  },
  {
   "cell_type": "code",
   "execution_count": 5,
   "metadata": {},
   "outputs": [],
   "source": [
    "pcd_3 = remove_outliers(pcd_3)\n",
    "pcd_4 = remove_outliers(pcd_4)\n",
    "pcd_wm = remove_outliers(pcd_wm)\n",
    "pcd_side = remove_outliers(pcd_side)"
   ]
  },
  {
   "cell_type": "markdown",
   "metadata": {},
   "source": [
    "### normalisation"
   ]
  },
  {
   "cell_type": "code",
   "execution_count": 154,
   "metadata": {},
   "outputs": [],
   "source": [
    "def normalise_pcd(pcd):\n",
    "    points = np.asarray(pcd.points)\n",
    "\n",
    "    # get centroid of point cloud\n",
    "    centroid = points.mean(axis=0, keepdims=True)\n",
    "    # subtract centroid from all points to set centroid to origin\n",
    "    points = points - centroid\n",
    "\n",
    "    # set normalised point cloud to the pcd object\n",
    "    pcd.points = o3d.utility.Vector3dVector(points)\n"
   ]
  },
  {
   "cell_type": "code",
   "execution_count": 165,
   "metadata": {},
   "outputs": [],
   "source": [
    "\n",
    "temp_3 = copy.deepcopy(pcd_3)\n",
    "normalise_pcd(temp_3)\n",
    "pcd_3.paint_uniform_color([0.5, 0, 0.8])\n",
    "temp_3.paint_uniform_color([0.5, 0, 0])\n",
    "\n",
    "\n",
    "temp_wm = copy.deepcopy(pcd_wm)\n",
    "normalise_pcd(temp_wm)\n",
    "pcd_wm.paint_uniform_color([0.5, 0, 0.8])\n",
    "temp_wm.paint_uniform_color([0.5, 0, 0])\n",
    "\n",
    "temp_side = copy.deepcopy(pcd_side)\n",
    "normalise_pcd(temp_side)\n",
    "pcd_side.paint_uniform_color([0.5, 0, 0.8])\n",
    "temp_side.paint_uniform_color([0.5, 0, 0])\n",
    "\n",
    "# normalise_pcd(pcd_3)\n",
    "# normalise_pcd(pcd_4)\n",
    "# normalise_pcd(pcd_wm)\n",
    "# normalise_pcd(pcd_side)\n",
    "\n",
    "# temp_wm = copy.deepcopy(pcd_wm)\n",
    "# normalise_pcd(temp_wm)\n",
    "\n",
    "# temp_side = copy.deepcopy(pcd_side)\n",
    "# normalise_pcd(temp_side)\n",
    "\n",
    "# pcd_3.paint_uniform_color([0.5, 0, 0])\n",
    "# pcd_wm.paint_uniform_color([0.5, 0, 0.8])\n",
    "\n",
    "# normalise_pcd(pcd_side)\n",
    "o3d.visualization.draw_geometries([temp_3, pcd_3, pcd_side, temp_side])"
   ]
  },
  {
   "cell_type": "code",
   "execution_count": 176,
   "metadata": {},
   "outputs": [
    {
     "data": {
      "text/plain": [
       "141.283325943572"
      ]
     },
     "execution_count": 176,
     "metadata": {},
     "output_type": "execute_result"
    }
   ],
   "source": [
    "pcd_3.get_center()[0]"
   ]
  },
  {
   "cell_type": "code",
   "execution_count": 182,
   "metadata": {},
   "outputs": [],
   "source": [
    "# temp_3 = copy.deepcopy(pcd_3).translate((0, 0, 0), relative=False)\n",
    "# pcd_3.paint_uniform_color([0.5, 0, 0.8])\n",
    "# temp_3.paint_uniform_color([0.5, 0, 0])\n",
    "\n",
    "cx, cy, cz = pcd_3.get_center()\n",
    "\n",
    "temp_side = copy.deepcopy(pcd_side).translate((cx, cy, cz), relative=False)\n",
    "pcd_side.paint_uniform_color([0.5, 0, 0.8])\n",
    "temp_side.paint_uniform_color([0.5, 0, 0])\n",
    "pcd_3.paint_uniform_color([0, 0.5, 0])\n",
    "\n",
    "o3d.visualization.draw_geometries([pcd_3, temp_side, pcd_side])"
   ]
  },
  {
   "cell_type": "code",
   "execution_count": 156,
   "metadata": {},
   "outputs": [
    {
     "data": {
      "text/plain": [
       "array([[-1925.37320727,   -81.32956437,     0.        ],\n",
       "       [-1942.79804651,  -122.60988506,     0.        ],\n",
       "       [-1939.7909136 ,  -160.78370365,     0.        ],\n",
       "       ...,\n",
       "       [-1944.08443894,    30.1616616 ,     0.        ],\n",
       "       [-1934.85410173,    -6.68529278,     0.        ],\n",
       "       [-1935.8864415 ,   -44.80992892,     0.        ]])"
      ]
     },
     "execution_count": 156,
     "metadata": {},
     "output_type": "execute_result"
    }
   ],
   "source": [
    "np.asarray(pcd_wm.points)"
   ]
  },
  {
   "cell_type": "markdown",
   "metadata": {},
   "source": [
    "### add origin to point cloud"
   ]
  },
  {
   "cell_type": "code",
   "execution_count": 157,
   "metadata": {},
   "outputs": [
    {
     "data": {
      "text/plain": [
       "array([[1871.71667406, -308.33309302,    0.        ],\n",
       "       [2003.38998017, -270.89768122,    0.        ],\n",
       "       [2250.25892311, -224.81859741,    0.        ],\n",
       "       ...,\n",
       "       [1662.24161382, -402.85183   ,    0.        ],\n",
       "       [1657.62016269, -371.15218709,    0.        ],\n",
       "       [1683.43871772, -340.18373477,    0.        ]])"
      ]
     },
     "execution_count": 157,
     "metadata": {},
     "output_type": "execute_result"
    }
   ],
   "source": [
    "np.asarray(pcd_3.points)"
   ]
  },
  {
   "cell_type": "code",
   "execution_count": 145,
   "metadata": {},
   "outputs": [],
   "source": [
    "def add_center(pcd):\n",
    "    center = np.array([0., 0., 0.]).reshape(1, -1)\n",
    "    points = np.asarray(pcd.points)\n",
    "    points = np.append(points, center, axis=0)\n",
    "    pcd.points = o3d.utility.Vector3dVector(points)"
   ]
  },
  {
   "cell_type": "code",
   "execution_count": 146,
   "metadata": {},
   "outputs": [],
   "source": [
    "add_center(pcd_3)\n",
    "add_center(pcd_4)\n",
    "add_center(pcd_wm)\n",
    "add_center(pcd_side)"
   ]
  },
  {
   "cell_type": "markdown",
   "metadata": {},
   "source": [
    "### visualise"
   ]
  },
  {
   "cell_type": "code",
   "execution_count": 49,
   "metadata": {},
   "outputs": [],
   "source": [
    "# pcd_1 = pcd_1.translate((0,0,200))\n",
    "# pcd_2 = pcd_2.translate((0,0,400))\n",
    "\n",
    "# pcd_5 = pcd_5.translate((0,0,1000))"
   ]
  },
  {
   "cell_type": "code",
   "execution_count": 203,
   "metadata": {},
   "outputs": [],
   "source": [
    "# # The x, y, z axis will be rendered as red, green, and blue arrows respectively.\n",
    "# coord_frame = o3d.geometry.TriangleMesh.create_coordinate_frame(size=200)\n",
    "\n",
    "# pcd_3 = pcd_3.translate((0,0,600))\n",
    "# pcd_4 = pcd_4.translate((0,0,1000))\n",
    "# pcd_wm = pcd_wm.translate((0,0,1400))\n",
    "# pcd_side = pcd_side.translate((0,0,1800))\n",
    "\n",
    "# # pcd_1.paint_uniform_color([0.5, 0, 0.8])\n",
    "# # pcd_2.paint_uniform_color([0.5, 0, 0.8])\n",
    "# pcd_3.paint_uniform_color([0.5, 0, 0.8])\n",
    "# pcd_4.paint_uniform_color([0.5, 0, 0.8])\n",
    "# pcd_wm.paint_uniform_color([0.5, 0, 0.8])\n",
    "# pcd_side.paint_uniform_color([0.5, 0, 0.8])\n",
    "# # pcd_5.paint_uniform_color([0.5, 0, 0.8])\n",
    "\n",
    "# o3d.visualization.draw_geometries([pcd_3, pcd_4, pcd_wm, pcd_side])\n",
    "# # o3d.visualization.draw_geometries([pcd_wm, pcd_3, pcd_4])"
   ]
  },
  {
   "cell_type": "code",
   "execution_count": 218,
   "metadata": {},
   "outputs": [],
   "source": [
    "pcd_1.translate((0,0,600))\n",
    "pcd_2.translate((0,0,1000))\n",
    "pcd_3.translate((0,0,1400))\n",
    "pcd_4.translate((0,0,1800))\n",
    "\n",
    "pcd_1.paint_uniform_color([0.5, 0, 0.8])\n",
    "pcd_2.paint_uniform_color([0.5, 0, 0.8])\n",
    "pcd_3.paint_uniform_color([0.5, 0, 0.8])\n",
    "pcd_4.paint_uniform_color([0.5, 0, 0.8])\n",
    "\n",
    "o3d.visualization.draw_geometries([pcd_1, pcd_2, pcd_3, pcd_4])\n",
    "# o3d.visualization.draw_geometries([pcd_wm, pcd_3, pcd_4])"
   ]
  },
  {
   "cell_type": "markdown",
   "metadata": {},
   "source": [
    "#### Manually rotate scans"
   ]
  },
  {
   "cell_type": "code",
   "execution_count": 91,
   "metadata": {},
   "outputs": [],
   "source": [
    "temp = copy.deepcopy(pcd_3)\n",
    "temp.paint_uniform_color([0.5, 0, 0])\n",
    "pcd_side_rot = temp.rotate(pcd_side.get_rotation_matrix_from_xyz((0, 0, -1.05*np.pi)),\n",
    "              center=(0, 0, 0))\n",
    "    \n",
    "o3d.visualization.draw_geometries([pcd_wm, pcd_side_rot])"
   ]
  },
  {
   "cell_type": "markdown",
   "metadata": {},
   "source": [
    "### point set registration (kinda working)\n",
    "point cloud is 2D"
   ]
  },
  {
   "cell_type": "code",
   "execution_count": 78,
   "metadata": {},
   "outputs": [],
   "source": [
    "def draw_registration_result(source, target, transformation):\n",
    "    source_temp = copy.deepcopy(source)\n",
    "    target_temp = copy.deepcopy(target)\n",
    "    source_temp.paint_uniform_color([1, 0.706, 0])\n",
    "    target_temp.paint_uniform_color([0, 0.651, 0.929])\n",
    "    source_temp.transform(transformation)\n",
    "    o3d.visualization.draw_geometries([source_temp, target_temp],\n",
    "                                      zoom=0.4559,\n",
    "                                      front=[0.6452, -0.3036, -0.7011],\n",
    "                                      lookat=[1.9892, 2.0208, 1.8945],\n",
    "                                      up=[-0.2779, -0.9482, 0.1556])"
   ]
  },
  {
   "cell_type": "code",
   "execution_count": 66,
   "metadata": {},
   "outputs": [
    {
     "name": "stdout",
     "output_type": "stream",
     "text": [
      "RegistrationResult with fitness=2.033426e-01, inlier_rmse=1.522827e+02, and correspondence_set size of 73\n",
      "Access transformation to get result.\n"
     ]
    }
   ],
   "source": [
    "# evaluation = o3d.pipelines.registration.evaluate_registration(\n",
    "#     source, target, 250, trans_init)\n",
    "# print(evaluation)"
   ]
  },
  {
   "cell_type": "code",
   "execution_count": 225,
   "metadata": {},
   "outputs": [
    {
     "name": "stdout",
     "output_type": "stream",
     "text": [
      "Apply point-to-point ICP\n",
      "RegistrationResult with fitness=1.000000e+00, inlier_rmse=2.657564e+01, and correspondence_set size of 360\n",
      "Access transformation to get result.\n",
      "Transformation is:\n",
      "[[  0.98285917  -0.18435795   0.         -10.58415239]\n",
      " [  0.18435795   0.98285917   0.         -36.01000517]\n",
      " [  0.           0.           1.           0.        ]\n",
      " [  0.           0.           0.           1.        ]]\n"
     ]
    },
    {
     "data": {
      "text/plain": [
       "PointCloud with 360 points."
      ]
     },
     "execution_count": 225,
     "metadata": {},
     "output_type": "execute_result"
    }
   ],
   "source": [
    "# source = o3d.io.read_point_cloud(\"sme_uni/sm_points_3.txt\", format='xyz')\n",
    "# target = o3d.io.read_point_cloud(\"sme_uni/sm_points_wm.txt\", format='xyz')\n",
    "\n",
    "trans_init = np.eye(4,4)\n",
    "\n",
    "# source = pcd_1\n",
    "# target = pcd_2\n",
    "\n",
    "print(\"Apply point-to-point ICP\")\n",
    "\n",
    "reg_p2p = o3d.pipelines.registration.registration_icp(\n",
    "    pcd_4, \n",
    "    pcd_1, \n",
    "    200, \n",
    "    trans_init,\n",
    "    o3d.pipelines.registration.TransformationEstimationPointToPoint(),\n",
    "    o3d.pipelines.registration.ICPConvergenceCriteria(max_iteration=2000)\n",
    ")\n",
    "\n",
    "print(reg_p2p)\n",
    "print(\"Transformation is:\")\n",
    "print(reg_p2p.transformation)\n",
    "\n",
    "pcd_4.transform(reg_p2p.transformation)\n",
    "\n",
    "# draw_registration_result(source, target, reg_p2p.transformation)"
   ]
  },
  {
   "cell_type": "markdown",
   "metadata": {},
   "source": [
    "### RANSAC registration based on feature matching (not working as of now)"
   ]
  },
  {
   "cell_type": "code",
   "execution_count": 140,
   "metadata": {},
   "outputs": [],
   "source": [
    "# def preprocess_point_cloud(pcd, voxel_size):\n",
    "#     radius_normal = voxel_size * 2\n",
    "    \n",
    "#     pcd.estimate_normals(\n",
    "#         o3d.geometry.KDTreeSearchParamHybrid(radius=radius_normal, max_nn=30)\n",
    "#     )\n",
    "\n",
    "#     radius_feature = voxel_size * 5\n",
    "#     pcd_fpfh = o3d.pipelines.registration.compute_fpfh_feature(\n",
    "#         pcd,\n",
    "#         o3d.geometry.KDTreeSearchParamHybrid(radius=radius_feature, max_nn=100)\n",
    "#     )\n",
    "#     return pcd, pcd_fpfh"
   ]
  },
  {
   "cell_type": "code",
   "execution_count": 141,
   "metadata": {},
   "outputs": [],
   "source": [
    "# def prepare_dataset(voxel_size):\n",
    "#     print(\":: Load two point clouds\")\n",
    "#     source = o3d.io.read_point_cloud(\"points_3.txt\", format='xyz')\n",
    "#     target = o3d.io.read_point_cloud(\"points_2.txt\", format='xyz')\n",
    "#     # trans_init = np.asarray([[0.0, 0.0, 1.0, 0.0], [1.0, 0.0, 0.0, 0.0],\n",
    "#     #                          [0.0, 1.0, 0.0, 0.0], [0.0, 0.0, 0.0, 1.0]])\n",
    "#     # source.transform(trans_init)\n",
    "#     draw_registration_result(source, target, np.identity(4))\n",
    "\n",
    "#     source_down, source_fpfh = preprocess_point_cloud(source, voxel_size)\n",
    "#     target_down, target_fpfh = preprocess_point_cloud(target, voxel_size)\n",
    "#     return source, target, source_down, target_down, source_fpfh, target_fpfh"
   ]
  },
  {
   "cell_type": "code",
   "execution_count": 142,
   "metadata": {},
   "outputs": [],
   "source": [
    "# voxel_size = 0.05  # means 5cm for this dataset\n",
    "# source, target, source_down, target_down, source_fpfh, target_fpfh = prepare_dataset(voxel_size)"
   ]
  },
  {
   "cell_type": "code",
   "execution_count": 143,
   "metadata": {},
   "outputs": [],
   "source": [
    "# def execute_global_registration(source_down, target_down, source_fpfh,\n",
    "#                                 target_fpfh, voxel_size):\n",
    "#     distance_threshold = voxel_size * 1.5\n",
    "#     print(\":: RANSAC registration on downsampled point clouds.\")\n",
    "#     print(\"   Since the downsampling voxel size is %.3f,\" % voxel_size)\n",
    "#     print(\"   we use a liberal distance threshold %.3f.\" % distance_threshold)\n",
    "#     result = o3d.pipelines.registration.registration_ransac_based_on_feature_matching(\n",
    "#         source_down, target_down, source_fpfh, target_fpfh, True,\n",
    "#         distance_threshold,\n",
    "#         o3d.pipelines.registration.TransformationEstimationPointToPoint(False),\n",
    "#         3, [\n",
    "#             o3d.pipelines.registration.CorrespondenceCheckerBasedOnEdgeLength(\n",
    "#                 0.9),\n",
    "#             o3d.pipelines.registration.CorrespondenceCheckerBasedOnDistance(\n",
    "#                 distance_threshold)\n",
    "#         ], o3d.pipelines.registration.RANSACConvergenceCriteria(100000, 0.999))\n",
    "#     return result"
   ]
  },
  {
   "cell_type": "code",
   "execution_count": 144,
   "metadata": {},
   "outputs": [],
   "source": [
    "# result_ransac = execute_global_registration(source_down, target_down, source_fpfh, target_fpfh, voxel_size)\n",
    "# print(result_ransac)\n",
    "# draw_registration_result(source_down, target_down, result_ransac.transformation)"
   ]
  },
  {
   "cell_type": "code",
   "execution_count": 145,
   "metadata": {},
   "outputs": [],
   "source": [
    "# def refine_registration(source, target, source_fpfh, target_fpfh, voxel_size):\n",
    "#     distance_threshold = voxel_size * 0.4\n",
    "#     print(\":: Point-to-plane ICP registration is applied on original point\")\n",
    "#     print(\"   clouds to refine the alignment. This time we use a strict\")\n",
    "#     print(\"   distance threshold %.3f.\" % distance_threshold)\n",
    "#     result = o3d.pipelines.registration.registration_icp(\n",
    "#         source, target, distance_threshold, result_ransac.transformation,\n",
    "#         o3d.pipelines.registration.TransformationEstimationPointToPlane())\n",
    "#     return result"
   ]
  },
  {
   "cell_type": "code",
   "execution_count": 146,
   "metadata": {},
   "outputs": [],
   "source": [
    "# result_icp = refine_registration(source, target, source_fpfh, target_fpfh,\n",
    "#                                  voxel_size)\n",
    "# print(result_icp)\n",
    "# draw_registration_result(source, target, result_icp.transformation)"
   ]
  },
  {
   "cell_type": "markdown",
   "metadata": {},
   "source": [
    "### manual transformation of PCDs"
   ]
  },
  {
   "cell_type": "code",
   "execution_count": 61,
   "metadata": {},
   "outputs": [
    {
     "name": "stdout",
     "output_type": "stream",
     "text": [
      "PointCloud with 529 points.\n"
     ]
    }
   ],
   "source": [
    "pcd = o3d.io.read_point_cloud(\"points_3.txt\", format='xyz')\n",
    "print(pcd)\n",
    "pcd.paint_uniform_color([0.5, 0, 0.8])\n",
    "o3d.visualization.draw_geometries([pcd],\n",
    "                                   zoom=0.3412,\n",
    "                                   front=[0.4257, -0.2125, -0.8795],\n",
    "                                   lookat=[2.6172, 2.0475, 1.532],\n",
    "                                   up=[-0.0694, -0.9768, 0.2024])"
   ]
  },
  {
   "cell_type": "code",
   "execution_count": 3,
   "metadata": {},
   "outputs": [],
   "source": [
    "pcd_1 = o3d.io.read_point_cloud(\"points_3.txt\", format='xyz')\n",
    "pcd_2 = o3d.io.read_point_cloud(\"points_2.txt\", format='xyz')"
   ]
  },
  {
   "cell_type": "code",
   "execution_count": 18,
   "metadata": {},
   "outputs": [
    {
     "name": "stdout",
     "output_type": "stream",
     "text": [
      "center of 1: [-474.63903076 -225.26908688    0.        ]\n",
      "center of 2: [-428.52238089 -329.83380932  500.        ]\n"
     ]
    }
   ],
   "source": [
    "pcd_1_trans = copy.deepcopy(pcd_1).translate((0, 0, 0))\n",
    "pcd_2_trans = copy.deepcopy(pcd_2).translate((0, 0, 0))\n",
    "\n",
    "print(f'center of 1: {pcd_1.get_center()}')\n",
    "print(f'center of 2: {pcd_2.get_center()}')\n",
    "\n",
    "pcd_1_trans.paint_uniform_color([1, 0.706, 0])\n",
    "pcd_2_trans.paint_uniform_color([0, 0.651, 0.929])\n",
    "\n",
    "o3d.visualization.draw_geometries([pcd_1_trans, pcd_2_trans])"
   ]
  },
  {
   "cell_type": "markdown",
   "metadata": {},
   "source": [
    "### Alphashape (not working)"
   ]
  },
  {
   "cell_type": "code",
   "execution_count": 41,
   "metadata": {},
   "outputs": [],
   "source": [
    "from scipy.spatial import Delaunay"
   ]
  },
  {
   "cell_type": "code",
   "execution_count": 33,
   "metadata": {},
   "outputs": [
    {
     "name": "stdout",
     "output_type": "stream",
     "text": [
      "[[807   7]\n",
      " [817  14]]\n"
     ]
    }
   ],
   "source": [
    "\n",
    "import math\n",
    "import numpy as np\n",
    "import matplotlib.pyplot as plt\n",
    "\n",
    "angles = []\n",
    "distances = []\n",
    "\n",
    "with open('out3.txt', 'r') as f:\n",
    "    lines = f.readlines()\n",
    "    for line in lines:\n",
    "        angle, dist, quality = map(lambda x : float(x.split(':')[1]), line.split())\n",
    "        angles.append(math.radians(angle))\n",
    "        distances.append(dist)\n",
    "\n",
    "# angles = np.array(angles)\n",
    "# distances = np.array(distances)\n",
    "\n",
    "points_x = np.int16(np.cos(angles) * distances)\n",
    "points_y = np.int16(np.sin(angles) * distances)\n",
    "\n",
    "# points_x = np.cos(angles) * distances\n",
    "# points_y = np.sin(angles) * distances\n",
    "\n",
    "points = []\n",
    "\n",
    "for x, y in zip(points_x, points_y):\n",
    "    points.append([x, y])\n",
    "\n",
    "points = np.array(points)\n",
    "\n",
    "print(points[:2])"
   ]
  },
  {
   "cell_type": "code",
   "execution_count": 59,
   "metadata": {},
   "outputs": [],
   "source": [
    "tri = Delaunay(points)"
   ]
  },
  {
   "cell_type": "code",
   "execution_count": 56,
   "metadata": {},
   "outputs": [
    {
     "data": {
      "text/plain": [
       "array([[411, 404, 405],\n",
       "       [404, 411, 373],\n",
       "       [367, 404, 373],\n",
       "       ...,\n",
       "       [387, 392, 428],\n",
       "       [382, 387, 428],\n",
       "       [386, 387, 382]], dtype=int32)"
      ]
     },
     "execution_count": 56,
     "metadata": {},
     "output_type": "execute_result"
    }
   ],
   "source": [
    "tri.simplices"
   ]
  },
  {
   "cell_type": "code",
   "execution_count": 60,
   "metadata": {},
   "outputs": [
    {
     "data": {
      "image/png": "[encoded data removed]",
      "text/plain": [
       "<Figure size 432x288 with 1 Axes>"
      ]
     },
     "metadata": {
      "needs_background": "light"
     },
     "output_type": "display_data"
    }
   ],
   "source": [
    "import matplotlib.pyplot as plt\n",
    "\n",
    "plt.triplot(points[:,0], points[:,1], tri.simplices)\n",
    "plt.plot(points[:,0], points[:,1], 'o')\n",
    "plt.show()"
   ]
  },
  {
   "cell_type": "code",
   "execution_count": 26,
   "metadata": {},
   "outputs": [],
   "source": [
    "import os \n",
    "import sys\n",
    "import cv2\n",
    "import numpy as np\n",
    "import pandas as pd\n",
    "from descartes import PolygonPatch\n",
    "import matplotlib.pyplot as plt\n",
    "import alphashape"
   ]
  },
  {
   "cell_type": "code",
   "execution_count": 53,
   "metadata": {},
   "outputs": [
    {
     "data": {
      "image/svg+xml": "<svg xmlns=\"http://www.w3.org/2000/svg\" xmlns:xlink=\"http://www.w3.org/1999/xlink\" width=\"300\" height=\"300\" viewBox=\"-2953.48 -6285.48 4094.96 8490.96\" preserveAspectRatio=\"xMinYMin meet\"><g transform=\"matrix(1,0,0,-1,0,-4079.9999999999995)\"><g><path fill-rule=\"evenodd\" fill=\"#66cc99\" stroke=\"#555555\" stroke-width=\"56.606399999999994\" opacity=\"0.6\" d=\"M -2091.0,-2598.0 L -2040.0,-2597.0 L -2241.0,-5384.0 L -2549.0,-2612.0 L -2571.0,-2572.0 L -2599.0,-1501.0 L -2630.0,-9.0 L -2639.0,433.0 L -2638.0,530.0 L -2635.0,497.0 L -2622.0,559.0 L -2213.0,579.0 L -2615.0,21.0 L -1871.0,581.0 L -1990.0,1881.0 L -2037.0,1879.0 L -1951.0,1889.0 L -1820.0,1891.0 L -1103.0,1880.0 L 780.0,1609.0 L 787.0,1446.0 L 803.0,857.0 L 808.0,633.0 L 827.0,-219.0 L 827.0,-262.0 L 805.0,-2912.0 L 778.0,-2950.0 L 722.0,-3026.0 L 682.0,-3016.0 L 539.0,-3046.0 L -4.0,-3102.0 L -1282.0,-2581.0 L -1527.0,-2578.0 L -1692.0,-2568.0 L -1831.0,-2574.0 L -1935.0,-2589.0 L -1985.0,-2589.0 L -2573.0,-2074.0 L -2091.0,-2598.0 z\" /><path fill-rule=\"evenodd\" fill=\"#66cc99\" stroke=\"#555555\" stroke-width=\"56.606399999999994\" opacity=\"0.6\" d=\"M -2176.0,-5410.0 L -2161.0,-5526.0 L -2254.0,-5971.0 L -2241.0,-5384.0 L -2176.0,-5410.0 z\" /></g></g></svg>",
      "text/plain": [
       "<shapely.geometry.multipolygon.MultiPolygon at 0x7f88a925b1c0>"
      ]
     },
     "execution_count": 53,
     "metadata": {},
     "output_type": "execute_result"
    }
   ],
   "source": [
    "alphashape.alphashape(points, 0.001)"
   ]
  },
  {
   "cell_type": "code",
   "execution_count": 54,
   "metadata": {},
   "outputs": [
    {
     "data": {
      "image/png": "[encoded data removed]",
      "text/plain": [
       "<Figure size 720x720 with 1 Axes>"
      ]
     },
     "metadata": {
      "needs_background": "light"
     },
     "output_type": "display_data"
    }
   ],
   "source": [
    "alpha_shape = alphashape.alphashape(points, 0.0019)\n",
    "fig, ax = plt.subplots(figsize=(10, 10))\n",
    "ax.scatter(*zip(*points))\n",
    "ax.add_patch(PolygonPatch(alpha_shape, alpha=0.4))\n",
    "plt.show()"
   ]
  },
  {
   "cell_type": "code",
   "execution_count": 55,
   "metadata": {},
   "outputs": [
    {
     "data": {
      "image/png": "[encoded data removed]",
      "text/plain": [
       "<Figure size 720x720 with 1 Axes>"
      ]
     },
     "metadata": {
      "needs_background": "light"
     },
     "output_type": "display_data"
    }
   ],
   "source": [
    "alpha_shape = alphashape.alphashape(points, 0.001)\n",
    "fig, ax = plt.subplots(figsize=(10, 10))\n",
    "ax.scatter(*zip(*points))\n",
    "ax.add_patch(PolygonPatch(alpha_shape, alpha=0.4))\n",
    "plt.show()"
   ]
  },
  {
   "cell_type": "code",
   "execution_count": 32,
   "metadata": {},
   "outputs": [
    {
     "name": "stdout",
     "output_type": "stream",
     "text": [
      "center of 1: [-4.63773527e-13  5.90999629e-16  0.00000000e+00]\n",
      "center of 2: [ 5.22613638e-13 -6.94440703e-13  0.00000000e+00]\n",
      "[0.10335097 0.10335097 0.10335097]\n"
     ]
    }
   ],
   "source": [
    "pcd_1_tmp = copy.deepcopy(pcd_1).translate((0, 0, 0), relative=False)\n",
    "pcd_2_tmp = copy.deepcopy(pcd_2).translate((0, 0, 0), relative=False)\n",
    "\n",
    "coord_frame = o3d.geometry.TriangleMesh.create_coordinate_frame(size=2.0, origin=[0.0, 0.0, 0.0])\n",
    "\n",
    "# rotate 2nd scan to match first (HARDCODED)\n",
    "# pcd_2_tmp.rotate(pcd_2_tmp.get_rotation_matrix_from_xyz((0, 0, -1 * np.pi / 64)),\n",
    "#               center=(0, 0, 0))\n",
    "\n",
    "pcd_1_tmp.paint_uniform_color([1, 0.706, 0])\n",
    "pcd_2_tmp.paint_uniform_color([0, 0.651, 0.929])\n",
    "\n",
    "print(f'center of 1: {pcd_1_tmp.get_center()}')\n",
    "print(f'center of 2: {pcd_2_tmp.get_center()}')\n",
    "\n",
    "print(coord_frame.get_center())\n",
    "\n",
    "o3d.visualization.draw_geometries([pcd_1_tmp, pcd_2_tmp],\n",
    "                                   zoom=0.3412,\n",
    "                                   front=[0.4257, -0.2125, -0.8795],\n",
    "                                   lookat=[2.6172, 2.0475, 1.532],\n",
    "                                   up=[-0.0694, -0.9768, 0.2024])"
   ]
  },
  {
   "cell_type": "code",
   "execution_count": 36,
   "metadata": {},
   "outputs": [],
   "source": [
    "pcd_1.estimate_normals(\n",
    "    search_param=o3d.geometry.KDTreeSearchParamHybrid(radius=0.1, max_nn=30))\n",
    "\n",
    "pcd_2.estimate_normals(\n",
    "    search_param=o3d.geometry.KDTreeSearchParamHybrid(radius=0.1, max_nn=30))\n",
    "\n",
    "\n",
    "print(np.asarray(pcd_1.normals)[:5])\n",
    "print(np.asarray(pcd_2.normals)[:5])\n",
    "\n",
    "# pcd_1.orient_normals_to_align_with_direction(orientation_reference=[0, -1, 0])\n",
    "\n",
    "# o3d.visualization.draw_geometries([pcd_1],\n",
    "#                                   point_show_normal=True)\n",
    "\n"
   ]
  },
  {
   "cell_type": "code",
   "execution_count": 40,
   "metadata": {},
   "outputs": [
    {
     "ename": "RuntimeError",
     "evalue": "QH6239 Qhull precision error: Initial simplex is cocircular or cospherical.  Use option 'Qz' for the Delaunay triangulation or Voronoi diagram of cocircular/cospherical points.  Option 'Qz' adds a point \"at infinity\".  Use option 'Qs' to search all points for the initial simplex.\n\nWhile executing:  | qhull d Qbb Qt\nOptions selected for Qhull 2018.0.1.r 2018/12/28:\n  run-id 515579106  delaunay  Qbbound-last  Qtriangulate  _pre-merge\n  _zero-centrum  Pgood  _max-width 7.9e+03  Error-roundoff 1.6e-11\n  _one-merge 1.4e-10  _near-inside 7.1e-10  Visible-distance 9.5e-11\n  U-max-coplanar 9.5e-11  Width-outside 1.9e-10  _wide-facet 5.7e-10\n",
     "output_type": "error",
     "traceback": [
      "\u001b[0;31m---------------------------------------------------------------------------\u001b[0m",
      "\u001b[0;31mRuntimeError\u001b[0m                              Traceback (most recent call last)",
      "\u001b[0;32m<ipython-input-40-1f38d6dd841a>\u001b[0m in \u001b[0;36m<module>\u001b[0;34m\u001b[0m\n\u001b[0;32m----> 1\u001b[0;31m \u001b[0mmesh_1\u001b[0m \u001b[0;34m=\u001b[0m \u001b[0mo3d\u001b[0m\u001b[0;34m.\u001b[0m\u001b[0mgeometry\u001b[0m\u001b[0;34m.\u001b[0m\u001b[0mTriangleMesh\u001b[0m\u001b[0;34m.\u001b[0m\u001b[0mcreate_from_point_cloud_alpha_shape\u001b[0m\u001b[0;34m(\u001b[0m\u001b[0mpcd_1\u001b[0m\u001b[0;34m,\u001b[0m \u001b[0;36m0.03\u001b[0m\u001b[0;34m)\u001b[0m\u001b[0;34m\u001b[0m\u001b[0;34m\u001b[0m\u001b[0m\n\u001b[0m\u001b[1;32m      2\u001b[0m \u001b[0mo3d\u001b[0m\u001b[0;34m.\u001b[0m\u001b[0mvisualization\u001b[0m\u001b[0;34m.\u001b[0m\u001b[0mdraw_geometries\u001b[0m\u001b[0;34m(\u001b[0m\u001b[0;34m[\u001b[0m\u001b[0mpcd_1\u001b[0m\u001b[0;34m,\u001b[0m \u001b[0mmesh_1\u001b[0m\u001b[0;34m]\u001b[0m\u001b[0;34m)\u001b[0m\u001b[0;34m\u001b[0m\u001b[0;34m\u001b[0m\u001b[0m\n",
      "\u001b[0;31mRuntimeError\u001b[0m: QH6239 Qhull precision error: Initial simplex is cocircular or cospherical.  Use option 'Qz' for the Delaunay triangulation or Voronoi diagram of cocircular/cospherical points.  Option 'Qz' adds a point \"at infinity\".  Use option 'Qs' to search all points for the initial simplex.\n\nWhile executing:  | qhull d Qbb Qt\nOptions selected for Qhull 2018.0.1.r 2018/12/28:\n  run-id 515579106  delaunay  Qbbound-last  Qtriangulate  _pre-merge\n  _zero-centrum  Pgood  _max-width 7.9e+03  Error-roundoff 1.6e-11\n  _one-merge 1.4e-10  _near-inside 7.1e-10  Visible-distance 9.5e-11\n  U-max-coplanar 9.5e-11  Width-outside 1.9e-10  _wide-facet 5.7e-10\n"
     ]
    }
   ],
   "source": [
    "mesh_1 = o3d.geometry.TriangleMesh.create_from_point_cloud_alpha_shape(pcd_1, 0.03)\n",
    "o3d.visualization.draw_geometries([pcd_1, mesh_1])"
   ]
  },
  {
   "cell_type": "code",
   "execution_count": null,
   "metadata": {},
   "outputs": [],
   "source": [
    "o3d.visualization.draw_geometries([pcd_1, pcd_2],\n",
    "                                    zoom=0.3412,\n",
    "                                    front=[0.4257, -0.2125, -0.8795],\n",
    "                                    lookat=[2.6172, 2.0475, 1.532],\n",
    "                                    up=[-0.0694, -0.9768, 0.2024],\n",
    "                                    point_show_normal=True)"
   ]
  },
  {
   "cell_type": "code",
   "execution_count": 16,
   "metadata": {},
   "outputs": [
    {
     "name": "stdout",
     "output_type": "stream",
     "text": [
      "Plane equation: 0.00x + 0.00y + 1.00z + -0.00 = 0\n"
     ]
    }
   ],
   "source": [
    "plane_model, inliers = pcd_1.segment_plane(distance_threshold=0.1,\n",
    "                                             ransac_n=5,\n",
    "                                             num_iterations=1000)\n",
    "[a, b, c, d] = plane_model\n",
    "\n",
    "print(f\"Plane equation: {a:.2f}x + {b:.2f}y + {c:.2f}z + {d:.2f} = 0\")"
   ]
  },
  {
   "cell_type": "code",
   "execution_count": 17,
   "metadata": {},
   "outputs": [
    {
     "name": "stdout",
     "output_type": "stream",
     "text": [
      "center of 1: [-474.63903076 -225.26908688    0.        ]\n"
     ]
    }
   ],
   "source": [
    "print(f'center of 1: {pcd_1.get_center()}')"
   ]
  },
  {
   "cell_type": "markdown",
   "metadata": {},
   "source": [
    "### keypoint detection"
   ]
  },
  {
   "cell_type": "code",
   "execution_count": 7,
   "metadata": {},
   "outputs": [
    {
     "name": "stdout",
     "output_type": "stream",
     "text": [
      "PointCloud with 0 points.\n"
     ]
    }
   ],
   "source": [
    "keypoints = o3d.geometry.keypoint.compute_iss_keypoints(pcd)\n",
    "pcd.paint_uniform_color([0.5, 0, 0.5])\n",
    "keypoints.paint_uniform_color([0.5, 0, 0.0])\n",
    "print(keypoints)"
   ]
  },
  {
   "cell_type": "code",
   "execution_count": 13,
   "metadata": {},
   "outputs": [
    {
     "name": "stdout",
     "output_type": "stream",
     "text": [
      "['__class__', '__copy__', '__deepcopy__', '__delattr__', '__dir__', '__doc__', '__eq__', '__format__', '__ge__', '__getattribute__', '__gt__', '__hash__', '__init__', '__init_subclass__', '__le__', '__lt__', '__module__', '__ne__', '__new__', '__reduce__', '__reduce_ex__', '__repr__', '__setattr__', '__sizeof__', '__str__', '__subclasshook__', 'data', 'dimension', 'num', 'resize']\n"
     ]
    }
   ],
   "source": [
    "\n",
    "kps = o3d.pipelines.registration.compute_fpfh_feature()\n",
    "\n"
   ]
  },
  {
   "cell_type": "code",
   "execution_count": null,
   "metadata": {},
   "outputs": [],
   "source": []
  }
 ],
 "metadata": {
  "interpreter": {
   "hash": "916dbcbb3f70747c44a77c7bcd40155683ae19c65e1c03b4aa3499c5328201f1"
  },
  "kernelspec": {
   "display_name": "Python 3.9.5 64-bit",
   "language": "python",
   "name": "python3"
  },
  "language_info": {
   "codemirror_mode": {
    "name": "ipython",
    "version": 3
   },
   "file_extension": ".py",
   "mimetype": "text/x-python",
   "name": "python",
   "nbconvert_exporter": "python",
   "pygments_lexer": "ipython3",
   "version": "3.8.12"
  },
  "orig_nbformat": 4
 },
 "nbformat": 4,
 "nbformat_minor": 2
}
