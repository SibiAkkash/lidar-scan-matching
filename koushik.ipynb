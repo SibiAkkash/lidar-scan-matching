{
 "cells": [
  {
   "cell_type": "code",
   "execution_count": 1,
   "metadata": {},
   "outputs": [],
   "source": [
    "import cv2\n",
    "import matplotlib.pyplot as plt"
   ]
  },
  {
   "cell_type": "code",
   "execution_count": 2,
   "metadata": {},
   "outputs": [],
   "source": [
    "img = cv2.imread('test1.jpg')\n",
    "#img = cv2.cvtColor(img, cv2.COLOR_BGR2GRAY)"
   ]
  },
  {
   "cell_type": "code",
   "execution_count": 3,
   "metadata": {},
   "outputs": [],
   "source": [
    "ret, thresh = cv2.threshold(img,50,255,0)\n",
    "cv2.imshow('image', img)\n",
    "cv2.waitKey(0)\n",
    "cv2.destroyAllWindows()"
   ]
  },
  {
   "cell_type": "code",
   "execution_count": 5,
   "metadata": {},
   "outputs": [],
   "source": [
    "# Load the image\n",
    "img1 = cv2.imread('test1.png')\n",
    "# Convert it to greyscale\n",
    "img = cv2.cvtColor(img1, cv2.COLOR_BGR2GRAY)\n",
    "# Threshold the image\n",
    "ret, thresh = cv2.threshold(img,50,255,0)\n",
    "# Find the contours\n",
    "contours, hierarchy = cv2.findContours(thresh, cv2.RETR_TREE, cv2.CHAIN_APPROX_SIMPLE)\n",
    "\n",
    "# For each contour, find the convex hull and draw it\n",
    "# on the original image.\n",
    "for i in range(len(contours)):\n",
    "    hull = cv2.convexHull(contours[i])\n",
    "    cv2.drawContours(img1, [hull], -1, (255, 0, 0), 2)\n",
    "# Display the final convex hull image\n",
    "cv2.imshow('ConvexHull', img1)\n",
    "cv2.waitKey(0)\n",
    "cv2.destroyAllWindows()"
   ]
  },
  {
   "cell_type": "code",
   "execution_count": 6,
   "metadata": {},
   "outputs": [],
   "source": [
    "backSub = cv2.createBackgroundSubtractorMOG2()"
   ]
  },
  {
   "cell_type": "code",
   "execution_count": 7,
   "metadata": {},
   "outputs": [],
   "source": [
    "img = backSub.apply(img1)\n",
    "cv2.imshow('ConvexHull', img)\n",
    "cv2.waitKey(0)\n",
    "cv2.destroyAllWindows()"
   ]
  },
  {
   "cell_type": "code",
   "execution_count": 9,
   "metadata": {},
   "outputs": [],
   "source": [
    "img1 = img.copy()\n",
    "edges = cv2.Canny(img1,100,100) \n",
    "#plot the edges\n",
    "cv2.imshow('edges', img1)\n",
    "cv2.waitKey(0)\n",
    "cv2.destroyAllWindows()"
   ]
  },
  {
   "cell_type": "code",
   "execution_count": 13,
   "metadata": {},
   "outputs": [],
   "source": [
    "image = cv2.imread('test1.png') \n",
    "#converting RGB image to Binary \n",
    "gray_image = cv2.cvtColor(image,cv2.COLOR_BGR2GRAY) \n",
    "ret,thresh = cv2.threshold(gray_image,50,255,0) \n",
    "cv2.imshow('asv', thresh)\n",
    "cv2.waitKey(0)\n",
    "cv2.destroyAllWindows()\n",
    "#calculate the contours from binary image\n",
    "contours,hierarchy = cv2.findContours(thresh,cv2.RETR_TREE,cv2.CHAIN_APPROX_SIMPLE) \n",
    "with_contours = cv2.drawContours(image,contours, -1, (0,255,0), 3) \n",
    "cv2.imshow('contours', image)\n",
    "cv2.waitKey(0)\n",
    "cv2.destroyAllWindows()"
   ]
  },
  {
   "cell_type": "code",
   "execution_count": 14,
   "metadata": {
    "scrolled": true
   },
   "outputs": [
    {
     "ename": "ValueError",
     "evalue": "not enough values to unpack (expected 3, got 2)",
     "output_type": "error",
     "traceback": [
      "\u001b[0;31m---------------------------------------------------------------------------\u001b[0m",
      "\u001b[0;31mValueError\u001b[0m                                Traceback (most recent call last)",
      "\u001b[0;32m/tmp/ipykernel_86059/1052571961.py\u001b[0m in \u001b[0;36m<module>\u001b[0;34m\u001b[0m\n\u001b[1;32m     11\u001b[0m \u001b[0;31m# cv2.waitKey(0)\u001b[0m\u001b[0;34m\u001b[0m\u001b[0;34m\u001b[0m\u001b[0m\n\u001b[1;32m     12\u001b[0m \u001b[0;34m\u001b[0m\u001b[0m\n\u001b[0;32m---> 13\u001b[0;31m \u001b[0m_\u001b[0m\u001b[0;34m,\u001b[0m \u001b[0mcontours\u001b[0m\u001b[0;34m,\u001b[0m \u001b[0m_\u001b[0m \u001b[0;34m=\u001b[0m \u001b[0mcv2\u001b[0m\u001b[0;34m.\u001b[0m\u001b[0mfindContours\u001b[0m\u001b[0;34m(\u001b[0m\u001b[0mbinary\u001b[0m\u001b[0;34m,\u001b[0m \u001b[0mcv2\u001b[0m\u001b[0;34m.\u001b[0m\u001b[0mRETR_EXTERNAL\u001b[0m\u001b[0;34m,\u001b[0m \u001b[0mcv2\u001b[0m\u001b[0;34m.\u001b[0m\u001b[0mCHAIN_APPROX_SIMPLE\u001b[0m\u001b[0;34m)\u001b[0m\u001b[0;34m\u001b[0m\u001b[0;34m\u001b[0m\u001b[0m\n\u001b[0m\u001b[1;32m     14\u001b[0m \u001b[0;34m\u001b[0m\u001b[0m\n\u001b[1;32m     15\u001b[0m \u001b[0;32mfor\u001b[0m \u001b[0mcontour\u001b[0m \u001b[0;32min\u001b[0m \u001b[0mcontours\u001b[0m\u001b[0;34m:\u001b[0m\u001b[0;34m\u001b[0m\u001b[0;34m\u001b[0m\u001b[0m\n",
      "\u001b[0;31mValueError\u001b[0m: not enough values to unpack (expected 3, got 2)"
     ]
    }
   ],
   "source": [
    "img = cv2.imread('test1.png')\n",
    "\n",
    "gray = cv2.cvtColor(img, cv2.COLOR_BGR2GRAY)\n",
    "\n",
    "cv2.imshow(\"gray\", gray)\n",
    "cv2.waitKey(0)\n",
    "\n",
    "_, binary = cv2.threshold(gray, 10, 255, cv2.THRESH_BINARY)\n",
    "\n",
    "# cv2.imshow(\"binary\", binary)\n",
    "# cv2.waitKey(0)\n",
    "\n",
    "contours, _ = cv2.findContours(binary, cv2.RETR_EXTERNAL, cv2.CHAIN_APPROX_SIMPLE)\n",
    "\n",
    "for contour in contours:\n",
    "    epsilon = 0.009 * cv2.arcLength(contour, True)\n",
    "    approx = cv2.approxPolyDP(contour, epsilon, closed=True)\n",
    "    cv2.drawContours(img, [approx], -1, (0, 255, 255), 1)\n",
    "\n",
    "cv2.imshow(\"approx\", img)\n",
    "cv2.waitKey(0)\n",
    "cv2.destroyAllWindows()"
   ]
  },
  {
   "cell_type": "code",
   "execution_count": 2,
   "metadata": {},
   "outputs": [],
   "source": [
    "import numpy as np"
   ]
  },
  {
   "cell_type": "code",
   "execution_count": 3,
   "metadata": {},
   "outputs": [],
   "source": [
    "img = cv2.imread('test1.png')\n",
    "gray_image = cv2.cvtColor(img,cv2.COLOR_BGR2GRAY) \n",
    "ret,thresh = cv2.threshold(gray_image,50,255,0) \n",
    "cv2.imshow('asv', thresh)\n",
    "cv2.waitKey(0)\n",
    "cv2.destroyAllWindows()\n",
    "\n",
    "kernel = np.ones((6,6), np.uint8)\n",
    "dilation = cv2.dilate(thresh, kernel, iterations = 1)\n",
    "cv2.imshow('ad',dilation)\n",
    "cv2.waitKey(0)\n",
    "cv2.destroyAllWindows()\n",
    "\n",
    "# Find the contours\n",
    "contours, hierarchy = cv2.findContours(dilation, cv2.RETR_TREE, cv2.CHAIN_APPROX_SIMPLE)\n",
    "#cv2.imshow('ad', hierarchy)\n",
    "# For each contour, find the convex hull and draw it\n",
    "# on the original image.\n",
    "for i in range(len(contours)):\n",
    "    epsilon = 0.009 * cv2.arcLength(contours[i], True)\n",
    "    hull = cv2.approxPolyDP(contours[i], epsilon, closed=True)\n",
    "    cv2.drawContours(dilation, [hull], -1, (255, 0, 0), 2)\n",
    "# Display the final convex hull image\n",
    "cv2.imshow('ConvexHull', dilation)\n",
    "cv2.waitKey(0)\n",
    "cv2.destroyAllWindows()"
   ]
  },
  {
   "cell_type": "code",
   "execution_count": 4,
   "metadata": {},
   "outputs": [],
   "source": [
    "# Load the image\n",
    "img1 = cv2.imread('layouts/test4.png')\n",
    "# Convert it to greyscale\n",
    "img = cv2.cvtColor(img1, cv2.COLOR_BGR2GRAY)\n",
    "# Threshold the image\n",
    "ret, thresh = cv2.threshold(img,50,255,0)\n",
    "kernel = np.ones((140,180), np.uint8)\n",
    "#thresh = cv2.dilate(thresh, kernel, iterations = 1)\n",
    "thresh = cv2.morphologyEx(thresh, cv2.MORPH_CLOSE, kernel)\n",
    "thresh = cv2.morphologyEx(thresh, cv2.MORPH_BLACKHAT, kernel)\n",
    "cv2.imshow('thresh',thresh)\n",
    "# Find the contours\n",
    "contours, hierarchy = cv2.findContours(thresh, cv2.RETR_TREE, cv2.CHAIN_APPROX_SIMPLE)\n",
    "#cv2.imshow('ad', hierarchy)\n",
    "# For each contour, find the convex hull and draw it\n",
    "# on the original image.\n",
    "#print(contours)\n",
    "for i in range(len(contours)):\n",
    "    hull = cv2.convexHull(contours[i])\n",
    "    cv2.drawContours(img1, [hull], -1, (255, 0, 0), 1)\n",
    "    #cv2.drawContours(thresh, [hull], -1, (255, 0, 0), 2)\n",
    "    epsilon = 0.009 * cv2.arcLength(contours[i], True)\n",
    "    approx = cv2.approxPolyDP(contours[i], epsilon, closed=False)\n",
    "    cv2.drawContours(img1, [approx], -1, (0, 255, 0), 1)\n",
    "    cv2.drawContours(thresh, [approx], -1, (0, 255, 0), 1)\n",
    "# Display the final convex hull image\n",
    "cv2.imshow('ConvexHull', img1)\n",
    "cv2.imshow('ConvexHull2', thresh)\n",
    "cv2.imwrite('Polyapprox.jpg', img1)\n",
    "#cv2.waitKey(0)\n",
    "cv2.waitKey(0)\n",
    "cv2.destroyAllWindows()"
   ]
  },
  {
   "cell_type": "code",
   "execution_count": 23,
   "metadata": {},
   "outputs": [
    {
     "data": {
      "text/plain": [
       "False"
      ]
     },
     "execution_count": 23,
     "metadata": {},
     "output_type": "execute_result"
    }
   ],
   "source": [
    "# import cv2\n",
    "import numpy as np\n",
    "\n",
    "img = cv2.imread('test2.jpg')\n",
    "gray = cv2.cvtColor(img,cv2.COLOR_BGR2GRAY)\n",
    "edges = cv2.Canny(gray,50,250,apertureSize = 3)\n",
    "minLineLength = 100\n",
    "maxLineGap = 10\n",
    "lines = cv2.HoughLinesP(edges,10,np.pi/180,100,minLineLength,maxLineGap)\n",
    "for x1,y1,x2,y2 in lines[0]:\n",
    "    cv2.line(img,(x1,y1),(x2,y2),(0,255,0),2)\n",
    "\n",
    "cv2.imwrite('houghlines5.jpg',img)"
   ]
  },
  {
   "cell_type": "code",
   "execution_count": 7,
   "metadata": {},
   "outputs": [],
   "source": [
    "import os \n",
    "import sys\n",
    "import pandas as pd\n",
    "from descartes import PolygonPatch\n",
    "import matplotlib.pyplot as plt\n",
    "import alphashape"
   ]
  },
  {
   "cell_type": "code",
   "execution_count": 10,
   "metadata": {},
   "outputs": [],
   "source": [
    "img = cv2.imread('layouts/test2.png')\n",
    "gray = cv2.cvtColor(img,cv2.COLOR_BGR2GRAY)\n"
   ]
  },
  {
   "cell_type": "code",
   "execution_count": 2,
   "metadata": {},
   "outputs": [],
   "source": [
    "import cv2\n",
    "import numpy as np\n",
    "\n",
    "img = cv2.imread('layouts/test2.png')\n",
    "cv2.imshow('img', img)\n",
    "cv2.waitKey(0)\n",
    "cv2.destroyAllWindows()"
   ]
  },
  {
   "cell_type": "code",
   "execution_count": 2,
   "metadata": {},
   "outputs": [],
   "source": [
    "import cv2\n",
    "import numpy as np\n",
    "\n",
    "img = cv2.imread('lidarimages/test1.png')\n",
    "gray = cv2.cvtColor(img, cv2.COLOR_BGR2GRAY)\n",
    "edges = cv2.Canny(gray, 50, 250, apertureSize = 3)\n",
    "cv2.imshow('gray', gray)\n",
    "cv2.waitKey(0)\n",
    "cv2.destroyAllWindows()\n",
    "# minLineLength = 1000\n",
    "# maxLineGap = 10\n",
    "\n",
    "# lines = cv2.HoughLinesP(gray, 10, np.pi/180, 100, minLineLength, maxLineGap)\n",
    "\n",
    "# for x1, y1, x2, y2 in lines[0]:\n",
    "#     cv2.line(img, (x1, y1), (x2, y2), (0, 255, 0), 2)\n",
    "\n",
    "# cv2.imshow('hough-lines', img)\n",
    "# cv2.waitKey(0)\n",
    "# cv2.destroyAllWindows()"
   ]
  },
  {
   "cell_type": "code",
   "execution_count": null,
   "metadata": {},
   "outputs": [],
   "source": []
  }
 ],
 "metadata": {
  "interpreter": {
   "hash": "4e1c805358c19edb2e7a588c4bfafcf8335f4c193b3b07d81d7e51c044ef2be5"
  },
  "kernelspec": {
   "display_name": "Python 3.9.7 64-bit ('imgproc': conda)",
   "name": "python3"
  },
  "language_info": {
   "codemirror_mode": {
    "name": "ipython",
    "version": 3
   },
   "file_extension": ".py",
   "mimetype": "text/x-python",
   "name": "python",
   "nbconvert_exporter": "python",
   "pygments_lexer": "ipython3",
   "version": "3.9.7"
  }
 },
 "nbformat": 4,
 "nbformat_minor": 2
}
